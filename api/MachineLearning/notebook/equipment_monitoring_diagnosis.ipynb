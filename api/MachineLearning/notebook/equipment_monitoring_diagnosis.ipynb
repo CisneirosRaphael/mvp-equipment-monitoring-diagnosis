{
 "cells": [
  {
   "cell_type": "markdown",
   "id": "11a48a3f",
   "metadata": {},
   "source": [
    "##### <b><i>Google collab</i></b> notebook to find wich algorithm and parameters are more <br> suitable to a classification problem (faulty/not faulty) based on equipment monitoring data"
   ]
  },
  {
   "cell_type": "code",
   "execution_count": 2,
   "id": "45a4f3e7",
   "metadata": {},
   "outputs": [],
   "source": [
    "# imports\n",
    "import pandas as pd\n",
    "import numpy as np\n",
    "import plotly.express as px\n",
    "from sklearn.preprocessing import StandardScaler\n",
    "from sklearn.preprocessing import MinMaxScaler\n",
    "from sklearn.model_selection import train_test_split\n",
    "from sklearn.model_selection import KFold\n",
    "from sklearn.model_selection import StratifiedKFold\n",
    "from sklearn.model_selection import cross_val_score\n",
    "from sklearn.model_selection import GridSearchCV\n",
    "from sklearn.metrics import accuracy_score\n",
    "from sklearn.pipeline import Pipeline\n",
    "from sklearn.tree import DecisionTreeClassifier\n",
    "from sklearn.neighbors import KNeighborsClassifier\n",
    "from sklearn.naive_bayes import GaussianNB\n",
    "from sklearn.svm import SVC\n",
    "from pathlib import Path\n",
    "import pickle"
   ]
  },
  {
   "cell_type": "markdown",
   "id": "4c3b821c",
   "metadata": {},
   "source": [
    "#### Load Dataset"
   ]
  },
  {
   "cell_type": "code",
   "execution_count": 3,
   "id": "7af09ebe",
   "metadata": {},
   "outputs": [],
   "source": [
    "# assign folder to read the dataset\n",
    "folder_cwd = Path.cwd().parent / 'data'\n",
    "file = folder_cwd / 'equipment_monitoring_data.csv'\n",
    "\n",
    "# Read csv file\n",
    "dataset = pd.read_csv(file, delimiter=',')"
   ]
  },
  {
   "cell_type": "code",
   "execution_count": 4,
   "id": "dd131a0a",
   "metadata": {},
   "outputs": [
    {
     "data": {
      "application/vnd.microsoft.datawrangler.viewer.v0+json": {
       "columns": [
        {
         "name": "index",
         "rawType": "int64",
         "type": "integer"
        },
        {
         "name": "temperature",
         "rawType": "float64",
         "type": "float"
        },
        {
         "name": "pressure",
         "rawType": "float64",
         "type": "float"
        },
        {
         "name": "vibration",
         "rawType": "float64",
         "type": "float"
        },
        {
         "name": "humidity",
         "rawType": "float64",
         "type": "float"
        },
        {
         "name": "faulty",
         "rawType": "float64",
         "type": "float"
        }
       ],
       "ref": "eafd9659-695c-481d-9b9a-78614c621714",
       "rows": [
        [
         "0",
         "58.18018003931781",
         "25.02927765103301",
         "0.6065162172245139",
         "45.694907104076414",
         "0.0"
        ],
        [
         "1",
         "75.74071220894001",
         "22.95401759548667",
         "2.338094753751008",
         "41.86740679261492",
         "0.0"
        ],
        [
         "2",
         "71.35859424081657",
         "27.27683031893662",
         "1.3891983049086754",
         "58.95440890948324",
         "0.0"
        ],
        [
         "3",
         "71.61698526704753",
         "32.24292130393475",
         "1.7706896863176191",
         "40.56513821185597",
         "0.0"
        ],
        [
         "4",
         "66.50683203881802",
         "45.19747079743589",
         "0.3453979892955756",
         "43.253794756433095",
         "0.0"
        ]
       ],
       "shape": {
        "columns": 5,
        "rows": 5
       }
      },
      "text/html": [
       "<div>\n",
       "<style scoped>\n",
       "    .dataframe tbody tr th:only-of-type {\n",
       "        vertical-align: middle;\n",
       "    }\n",
       "\n",
       "    .dataframe tbody tr th {\n",
       "        vertical-align: top;\n",
       "    }\n",
       "\n",
       "    .dataframe thead th {\n",
       "        text-align: right;\n",
       "    }\n",
       "</style>\n",
       "<table border=\"1\" class=\"dataframe\">\n",
       "  <thead>\n",
       "    <tr style=\"text-align: right;\">\n",
       "      <th></th>\n",
       "      <th>temperature</th>\n",
       "      <th>pressure</th>\n",
       "      <th>vibration</th>\n",
       "      <th>humidity</th>\n",
       "      <th>faulty</th>\n",
       "    </tr>\n",
       "  </thead>\n",
       "  <tbody>\n",
       "    <tr>\n",
       "      <th>0</th>\n",
       "      <td>58.180180</td>\n",
       "      <td>25.029278</td>\n",
       "      <td>0.606516</td>\n",
       "      <td>45.694907</td>\n",
       "      <td>0.0</td>\n",
       "    </tr>\n",
       "    <tr>\n",
       "      <th>1</th>\n",
       "      <td>75.740712</td>\n",
       "      <td>22.954018</td>\n",
       "      <td>2.338095</td>\n",
       "      <td>41.867407</td>\n",
       "      <td>0.0</td>\n",
       "    </tr>\n",
       "    <tr>\n",
       "      <th>2</th>\n",
       "      <td>71.358594</td>\n",
       "      <td>27.276830</td>\n",
       "      <td>1.389198</td>\n",
       "      <td>58.954409</td>\n",
       "      <td>0.0</td>\n",
       "    </tr>\n",
       "    <tr>\n",
       "      <th>3</th>\n",
       "      <td>71.616985</td>\n",
       "      <td>32.242921</td>\n",
       "      <td>1.770690</td>\n",
       "      <td>40.565138</td>\n",
       "      <td>0.0</td>\n",
       "    </tr>\n",
       "    <tr>\n",
       "      <th>4</th>\n",
       "      <td>66.506832</td>\n",
       "      <td>45.197471</td>\n",
       "      <td>0.345398</td>\n",
       "      <td>43.253795</td>\n",
       "      <td>0.0</td>\n",
       "    </tr>\n",
       "  </tbody>\n",
       "</table>\n",
       "</div>"
      ],
      "text/plain": [
       "   temperature   pressure  vibration   humidity  faulty\n",
       "0    58.180180  25.029278   0.606516  45.694907     0.0\n",
       "1    75.740712  22.954018   2.338095  41.867407     0.0\n",
       "2    71.358594  27.276830   1.389198  58.954409     0.0\n",
       "3    71.616985  32.242921   1.770690  40.565138     0.0\n",
       "4    66.506832  45.197471   0.345398  43.253795     0.0"
      ]
     },
     "execution_count": 4,
     "metadata": {},
     "output_type": "execute_result"
    }
   ],
   "source": [
    "# Show some rows of the dataset\n",
    "dataset.head()"
   ]
  },
  {
   "cell_type": "markdown",
   "id": "f34fdf31",
   "metadata": {},
   "source": [
    "#### Segregate dataset for trainning and testing holdout and <br>choose cross validation parameters"
   ]
  },
  {
   "cell_type": "code",
   "execution_count": 6,
   "id": "84645afe",
   "metadata": {},
   "outputs": [],
   "source": [
    "test_size = 0.30 # tamanho do conjunto de teste\n",
    "seed = 8 # random seed\n",
    "\n",
    "# Separation of trainning and testing dataset\n",
    "array = dataset.values\n",
    "X = array[:,0:-1]\n",
    "y = array[:,-1]\n",
    "X_train, X_test, y_train, y_test = train_test_split(X, y,\n",
    "    test_size=test_size, shuffle=True, random_state=seed, stratify=y) # holdout with stratification\n",
    "\n",
    "# Cross validation parameters\n",
    "scoring = 'accuracy'\n",
    "num_folds = 10\n",
    "kfold = StratifiedKFold(n_splits=num_folds, shuffle=True, random_state=seed) # cross validation with stratification"
   ]
  },
  {
   "cell_type": "markdown",
   "id": "77585141",
   "metadata": {},
   "source": [
    "### <b><i> Model and Inference </b></i>\n",
    "\n",
    "#### Creation and validation of models: baseline"
   ]
  },
  {
   "cell_type": "code",
   "execution_count": 7,
   "id": "bc2f1bd2",
   "metadata": {},
   "outputs": [
    {
     "name": "stdout",
     "output_type": "stream",
     "text": [
      "KNN: 0.97020 (0.00601)\n",
      "CART: 0.96797 (0.00715)\n",
      "NB: 0.98566 (0.00540)\n",
      "SVM: 0.97374 (0.00609)\n"
     ]
    }
   ],
   "source": [
    "# global seed\n",
    "np.random.seed(8) \n",
    "\n",
    "# List to append models\n",
    "models = []\n",
    "\n",
    "# Creating models and append to the models list\n",
    "models.append(('KNN', KNeighborsClassifier()))\n",
    "models.append(('CART', DecisionTreeClassifier()))\n",
    "models.append(('NB', GaussianNB()))\n",
    "models.append(('SVM', SVC()))\n",
    "\n",
    "# Lists to append the results\n",
    "results = []\n",
    "names = []\n",
    "\n",
    "# Models evaluation\n",
    "for name, model in models:\n",
    "    cv_results = cross_val_score(model, X_train, y_train, cv=kfold, scoring=scoring)\n",
    "    results.append(cv_results)\n",
    "    names.append(name)\n",
    "    msg = f\"{name}: {cv_results.mean():.5f} ({cv_results.std():.5f})\"\n",
    "    print(msg)"
   ]
  },
  {
   "cell_type": "code",
   "execution_count": null,
   "id": "2ba5ce4c",
   "metadata": {},
   "outputs": [
    {
     "data": {
      "application/vnd.plotly.v1+json": {
       "config": {
        "plotlyServerURL": "https://plot.ly"
       },
       "data": [
        {
         "alignmentgroup": "True",
         "hovertemplate": "Estimator=%{x}<br>Cross validation score=%{y}<extra></extra>",
         "legendgroup": "",
         "marker": {
          "color": "#636efa"
         },
         "name": "",
         "notched": false,
         "offsetgroup": "",
         "orientation": "v",
         "showlegend": false,
         "type": "box",
         "x": [
          "KNN",
          "KNN",
          "KNN",
          "KNN",
          "KNN",
          "KNN",
          "KNN",
          "KNN",
          "KNN",
          "KNN",
          "CART",
          "CART",
          "CART",
          "CART",
          "CART",
          "CART",
          "CART",
          "CART",
          "CART",
          "CART",
          "NB",
          "NB",
          "NB",
          "NB",
          "NB",
          "NB",
          "NB",
          "NB",
          "NB",
          "NB",
          "SVM",
          "SVM",
          "SVM",
          "SVM",
          "SVM",
          "SVM",
          "SVM",
          "SVM",
          "SVM",
          "SVM"
         ],
         "x0": " ",
         "xaxis": "x",
         "y": {
          "bdata": "vL1ClDFY7z/SX89VLBvvP1iIMgbrC+8/QualRPBI7z/dsJW2qfzuP9Jfz1UsG+8/0l/PVSwb7z/+o+jYIaHuP+gBXBcn3u4/3bCVtqn87j/HDgn1rjnvP+gBXBcn3u4/WIgyBusL7z9NN2ylbSrvP2PZ+GZo7e4/xw4J9a457z/zUiJ4pL/uP48dEupdc+4/3bCVtqn87j/SX89VLBvvP5vK73G5s+8/phu20jaV7z+mG7bSNpXvPxaijMH6wu8/phu20jaV7z8h81IieKTvPyxEGYP1he8/0l/PVSwb7z83ld/jcmfvPyxEGYP1he8/sWx8M7R27z/HDgn1rjnvP92wlbap/O4/sWx8M7R27z/SX89VLBvvP8cOCfWuOe8/QualRPBI7z/dsJW2qfzuP2PZ+GZo7e4/Y9n4Zmjt7j8=",
          "dtype": "f8"
         },
         "y0": " ",
         "yaxis": "y"
        }
       ],
       "layout": {
        "boxmode": "group",
        "height": 400,
        "legend": {
         "tracegroupgap": 0
        },
        "template": {
         "data": {
          "bar": [
           {
            "error_x": {
             "color": "#2a3f5f"
            },
            "error_y": {
             "color": "#2a3f5f"
            },
            "marker": {
             "line": {
              "color": "#E5ECF6",
              "width": 0.5
             },
             "pattern": {
              "fillmode": "overlay",
              "size": 10,
              "solidity": 0.2
             }
            },
            "type": "bar"
           }
          ],
          "barpolar": [
           {
            "marker": {
             "line": {
              "color": "#E5ECF6",
              "width": 0.5
             },
             "pattern": {
              "fillmode": "overlay",
              "size": 10,
              "solidity": 0.2
             }
            },
            "type": "barpolar"
           }
          ],
          "carpet": [
           {
            "aaxis": {
             "endlinecolor": "#2a3f5f",
             "gridcolor": "white",
             "linecolor": "white",
             "minorgridcolor": "white",
             "startlinecolor": "#2a3f5f"
            },
            "baxis": {
             "endlinecolor": "#2a3f5f",
             "gridcolor": "white",
             "linecolor": "white",
             "minorgridcolor": "white",
             "startlinecolor": "#2a3f5f"
            },
            "type": "carpet"
           }
          ],
          "choropleth": [
           {
            "colorbar": {
             "outlinewidth": 0,
             "ticks": ""
            },
            "type": "choropleth"
           }
          ],
          "contour": [
           {
            "colorbar": {
             "outlinewidth": 0,
             "ticks": ""
            },
            "colorscale": [
             [
              0,
              "#0d0887"
             ],
             [
              0.1111111111111111,
              "#46039f"
             ],
             [
              0.2222222222222222,
              "#7201a8"
             ],
             [
              0.3333333333333333,
              "#9c179e"
             ],
             [
              0.4444444444444444,
              "#bd3786"
             ],
             [
              0.5555555555555556,
              "#d8576b"
             ],
             [
              0.6666666666666666,
              "#ed7953"
             ],
             [
              0.7777777777777778,
              "#fb9f3a"
             ],
             [
              0.8888888888888888,
              "#fdca26"
             ],
             [
              1,
              "#f0f921"
             ]
            ],
            "type": "contour"
           }
          ],
          "contourcarpet": [
           {
            "colorbar": {
             "outlinewidth": 0,
             "ticks": ""
            },
            "type": "contourcarpet"
           }
          ],
          "heatmap": [
           {
            "colorbar": {
             "outlinewidth": 0,
             "ticks": ""
            },
            "colorscale": [
             [
              0,
              "#0d0887"
             ],
             [
              0.1111111111111111,
              "#46039f"
             ],
             [
              0.2222222222222222,
              "#7201a8"
             ],
             [
              0.3333333333333333,
              "#9c179e"
             ],
             [
              0.4444444444444444,
              "#bd3786"
             ],
             [
              0.5555555555555556,
              "#d8576b"
             ],
             [
              0.6666666666666666,
              "#ed7953"
             ],
             [
              0.7777777777777778,
              "#fb9f3a"
             ],
             [
              0.8888888888888888,
              "#fdca26"
             ],
             [
              1,
              "#f0f921"
             ]
            ],
            "type": "heatmap"
           }
          ],
          "histogram": [
           {
            "marker": {
             "pattern": {
              "fillmode": "overlay",
              "size": 10,
              "solidity": 0.2
             }
            },
            "type": "histogram"
           }
          ],
          "histogram2d": [
           {
            "colorbar": {
             "outlinewidth": 0,
             "ticks": ""
            },
            "colorscale": [
             [
              0,
              "#0d0887"
             ],
             [
              0.1111111111111111,
              "#46039f"
             ],
             [
              0.2222222222222222,
              "#7201a8"
             ],
             [
              0.3333333333333333,
              "#9c179e"
             ],
             [
              0.4444444444444444,
              "#bd3786"
             ],
             [
              0.5555555555555556,
              "#d8576b"
             ],
             [
              0.6666666666666666,
              "#ed7953"
             ],
             [
              0.7777777777777778,
              "#fb9f3a"
             ],
             [
              0.8888888888888888,
              "#fdca26"
             ],
             [
              1,
              "#f0f921"
             ]
            ],
            "type": "histogram2d"
           }
          ],
          "histogram2dcontour": [
           {
            "colorbar": {
             "outlinewidth": 0,
             "ticks": ""
            },
            "colorscale": [
             [
              0,
              "#0d0887"
             ],
             [
              0.1111111111111111,
              "#46039f"
             ],
             [
              0.2222222222222222,
              "#7201a8"
             ],
             [
              0.3333333333333333,
              "#9c179e"
             ],
             [
              0.4444444444444444,
              "#bd3786"
             ],
             [
              0.5555555555555556,
              "#d8576b"
             ],
             [
              0.6666666666666666,
              "#ed7953"
             ],
             [
              0.7777777777777778,
              "#fb9f3a"
             ],
             [
              0.8888888888888888,
              "#fdca26"
             ],
             [
              1,
              "#f0f921"
             ]
            ],
            "type": "histogram2dcontour"
           }
          ],
          "mesh3d": [
           {
            "colorbar": {
             "outlinewidth": 0,
             "ticks": ""
            },
            "type": "mesh3d"
           }
          ],
          "parcoords": [
           {
            "line": {
             "colorbar": {
              "outlinewidth": 0,
              "ticks": ""
             }
            },
            "type": "parcoords"
           }
          ],
          "pie": [
           {
            "automargin": true,
            "type": "pie"
           }
          ],
          "scatter": [
           {
            "fillpattern": {
             "fillmode": "overlay",
             "size": 10,
             "solidity": 0.2
            },
            "type": "scatter"
           }
          ],
          "scatter3d": [
           {
            "line": {
             "colorbar": {
              "outlinewidth": 0,
              "ticks": ""
             }
            },
            "marker": {
             "colorbar": {
              "outlinewidth": 0,
              "ticks": ""
             }
            },
            "type": "scatter3d"
           }
          ],
          "scattercarpet": [
           {
            "marker": {
             "colorbar": {
              "outlinewidth": 0,
              "ticks": ""
             }
            },
            "type": "scattercarpet"
           }
          ],
          "scattergeo": [
           {
            "marker": {
             "colorbar": {
              "outlinewidth": 0,
              "ticks": ""
             }
            },
            "type": "scattergeo"
           }
          ],
          "scattergl": [
           {
            "marker": {
             "colorbar": {
              "outlinewidth": 0,
              "ticks": ""
             }
            },
            "type": "scattergl"
           }
          ],
          "scattermap": [
           {
            "marker": {
             "colorbar": {
              "outlinewidth": 0,
              "ticks": ""
             }
            },
            "type": "scattermap"
           }
          ],
          "scattermapbox": [
           {
            "marker": {
             "colorbar": {
              "outlinewidth": 0,
              "ticks": ""
             }
            },
            "type": "scattermapbox"
           }
          ],
          "scatterpolar": [
           {
            "marker": {
             "colorbar": {
              "outlinewidth": 0,
              "ticks": ""
             }
            },
            "type": "scatterpolar"
           }
          ],
          "scatterpolargl": [
           {
            "marker": {
             "colorbar": {
              "outlinewidth": 0,
              "ticks": ""
             }
            },
            "type": "scatterpolargl"
           }
          ],
          "scatterternary": [
           {
            "marker": {
             "colorbar": {
              "outlinewidth": 0,
              "ticks": ""
             }
            },
            "type": "scatterternary"
           }
          ],
          "surface": [
           {
            "colorbar": {
             "outlinewidth": 0,
             "ticks": ""
            },
            "colorscale": [
             [
              0,
              "#0d0887"
             ],
             [
              0.1111111111111111,
              "#46039f"
             ],
             [
              0.2222222222222222,
              "#7201a8"
             ],
             [
              0.3333333333333333,
              "#9c179e"
             ],
             [
              0.4444444444444444,
              "#bd3786"
             ],
             [
              0.5555555555555556,
              "#d8576b"
             ],
             [
              0.6666666666666666,
              "#ed7953"
             ],
             [
              0.7777777777777778,
              "#fb9f3a"
             ],
             [
              0.8888888888888888,
              "#fdca26"
             ],
             [
              1,
              "#f0f921"
             ]
            ],
            "type": "surface"
           }
          ],
          "table": [
           {
            "cells": {
             "fill": {
              "color": "#EBF0F8"
             },
             "line": {
              "color": "white"
             }
            },
            "header": {
             "fill": {
              "color": "#C8D4E3"
             },
             "line": {
              "color": "white"
             }
            },
            "type": "table"
           }
          ]
         },
         "layout": {
          "annotationdefaults": {
           "arrowcolor": "#2a3f5f",
           "arrowhead": 0,
           "arrowwidth": 1
          },
          "autotypenumbers": "strict",
          "coloraxis": {
           "colorbar": {
            "outlinewidth": 0,
            "ticks": ""
           }
          },
          "colorscale": {
           "diverging": [
            [
             0,
             "#8e0152"
            ],
            [
             0.1,
             "#c51b7d"
            ],
            [
             0.2,
             "#de77ae"
            ],
            [
             0.3,
             "#f1b6da"
            ],
            [
             0.4,
             "#fde0ef"
            ],
            [
             0.5,
             "#f7f7f7"
            ],
            [
             0.6,
             "#e6f5d0"
            ],
            [
             0.7,
             "#b8e186"
            ],
            [
             0.8,
             "#7fbc41"
            ],
            [
             0.9,
             "#4d9221"
            ],
            [
             1,
             "#276419"
            ]
           ],
           "sequential": [
            [
             0,
             "#0d0887"
            ],
            [
             0.1111111111111111,
             "#46039f"
            ],
            [
             0.2222222222222222,
             "#7201a8"
            ],
            [
             0.3333333333333333,
             "#9c179e"
            ],
            [
             0.4444444444444444,
             "#bd3786"
            ],
            [
             0.5555555555555556,
             "#d8576b"
            ],
            [
             0.6666666666666666,
             "#ed7953"
            ],
            [
             0.7777777777777778,
             "#fb9f3a"
            ],
            [
             0.8888888888888888,
             "#fdca26"
            ],
            [
             1,
             "#f0f921"
            ]
           ],
           "sequentialminus": [
            [
             0,
             "#0d0887"
            ],
            [
             0.1111111111111111,
             "#46039f"
            ],
            [
             0.2222222222222222,
             "#7201a8"
            ],
            [
             0.3333333333333333,
             "#9c179e"
            ],
            [
             0.4444444444444444,
             "#bd3786"
            ],
            [
             0.5555555555555556,
             "#d8576b"
            ],
            [
             0.6666666666666666,
             "#ed7953"
            ],
            [
             0.7777777777777778,
             "#fb9f3a"
            ],
            [
             0.8888888888888888,
             "#fdca26"
            ],
            [
             1,
             "#f0f921"
            ]
           ]
          },
          "colorway": [
           "#636efa",
           "#EF553B",
           "#00cc96",
           "#ab63fa",
           "#FFA15A",
           "#19d3f3",
           "#FF6692",
           "#B6E880",
           "#FF97FF",
           "#FECB52"
          ],
          "font": {
           "color": "#2a3f5f"
          },
          "geo": {
           "bgcolor": "white",
           "lakecolor": "white",
           "landcolor": "#E5ECF6",
           "showlakes": true,
           "showland": true,
           "subunitcolor": "white"
          },
          "hoverlabel": {
           "align": "left"
          },
          "hovermode": "closest",
          "mapbox": {
           "style": "light"
          },
          "paper_bgcolor": "white",
          "plot_bgcolor": "#E5ECF6",
          "polar": {
           "angularaxis": {
            "gridcolor": "white",
            "linecolor": "white",
            "ticks": ""
           },
           "bgcolor": "#E5ECF6",
           "radialaxis": {
            "gridcolor": "white",
            "linecolor": "white",
            "ticks": ""
           }
          },
          "scene": {
           "xaxis": {
            "backgroundcolor": "#E5ECF6",
            "gridcolor": "white",
            "gridwidth": 2,
            "linecolor": "white",
            "showbackground": true,
            "ticks": "",
            "zerolinecolor": "white"
           },
           "yaxis": {
            "backgroundcolor": "#E5ECF6",
            "gridcolor": "white",
            "gridwidth": 2,
            "linecolor": "white",
            "showbackground": true,
            "ticks": "",
            "zerolinecolor": "white"
           },
           "zaxis": {
            "backgroundcolor": "#E5ECF6",
            "gridcolor": "white",
            "gridwidth": 2,
            "linecolor": "white",
            "showbackground": true,
            "ticks": "",
            "zerolinecolor": "white"
           }
          },
          "shapedefaults": {
           "line": {
            "color": "#2a3f5f"
           }
          },
          "ternary": {
           "aaxis": {
            "gridcolor": "white",
            "linecolor": "white",
            "ticks": ""
           },
           "baxis": {
            "gridcolor": "white",
            "linecolor": "white",
            "ticks": ""
           },
           "bgcolor": "#E5ECF6",
           "caxis": {
            "gridcolor": "white",
            "linecolor": "white",
            "ticks": ""
           }
          },
          "title": {
           "x": 0.05
          },
          "xaxis": {
           "automargin": true,
           "gridcolor": "white",
           "linecolor": "white",
           "ticks": "",
           "title": {
            "standoff": 15
           },
           "zerolinecolor": "white",
           "zerolinewidth": 2
          },
          "yaxis": {
           "automargin": true,
           "gridcolor": "white",
           "linecolor": "white",
           "ticks": "",
           "title": {
            "standoff": 15
           },
           "zerolinecolor": "white",
           "zerolinewidth": 2
          }
         }
        },
        "title": {
         "text": "Model Comparison"
        },
        "width": 550,
        "xaxis": {
         "anchor": "y",
         "domain": [
          0,
          1
         ],
         "title": {
          "text": "Estimator"
         }
        },
        "yaxis": {
         "anchor": "x",
         "domain": [
          0,
          1
         ],
         "title": {
          "text": "Cross validation score"
         }
        }
       }
      }
     },
     "metadata": {},
     "output_type": "display_data"
    }
   ],
   "source": [
    "# Boxplot to compare the models\n",
    "\n",
    "dict_models = {name: result for name, result in zip([name[0] for name in models],results)}\n",
    "df_models = pd.DataFrame(dict_models)\n",
    "df_models = df_models.melt(var_name = 'Estimator', \n",
    "               value_name='Cross validation score')\n",
    "\n",
    "fig = px.box(df_models,x='Estimator',\n",
    "             y='Cross validation score', title='Model Comparison')\n",
    "fig.update_layout(width=550, height = 400)\n",
    "fig.update_layout()"
   ]
  },
  {
   "cell_type": "markdown",
   "id": "82868381",
   "metadata": {},
   "source": [
    "<blockquote> Comment: Between the methods that have been chosen, in a first glance,\n",
    "Naive Bayes has the higher average cross validation accuracy and the lower standard deviation </blockquote>"
   ]
  },
  {
   "cell_type": "markdown",
   "id": "d146bcd8",
   "metadata": {},
   "source": [
    "#### Model creation and evaluation: standardized and normalized data"
   ]
  },
  {
   "cell_type": "code",
   "execution_count": 8,
   "id": "ba459c8c",
   "metadata": {},
   "outputs": [
    {
     "name": "stdout",
     "output_type": "stream",
     "text": [
      "KNN-orig: 0.9702(0.0060)\n",
      "CART-orig: 0.9680(0.0072)\n",
      "NB-orig: 0.9857(0.0054)\n",
      "SVM-orig: 0.9737(0.0061)\n",
      "KNN-std: 0.9793(0.0055)\n",
      "CART-std: 0.9680(0.0070)\n",
      "NB-std: 0.9857(0.0054)\n",
      "SVM-std: 0.9847(0.0056)\n",
      "KNN-norm: 0.9786(0.0057)\n",
      "CART-norm: 0.9678(0.0070)\n",
      "NB-norm: 0.9857(0.0054)\n",
      "SVM-norm: 0.9851(0.0053)\n"
     ]
    }
   ],
   "source": [
    "# Definition of a global seed\n",
    "np.random.seed(8) \n",
    "\n",
    "# # list to store machine learning pipelines and their evaluation results across all dataset configurations for comparative analysis\n",
    "pipelines = []\n",
    "results = []\n",
    "names = []\n",
    "\n",
    "\n",
    "# Creating pipeline elements\n",
    "\n",
    "# Classifier algorithms \n",
    "knn = ('KNN', KNeighborsClassifier())\n",
    "cart = ('CART', DecisionTreeClassifier())\n",
    "naive_bayes = ('NB', GaussianNB())\n",
    "svm = ('SVM', SVC())\n",
    "\n",
    "# Standardization and Normalization preprocessing\n",
    "standard_scaler = ('StandardScaler', StandardScaler())\n",
    "min_max_scaler = ('MinMaxScaler', MinMaxScaler())\n",
    "\n",
    "\n",
    "# Pipeline definitions\n",
    "\n",
    "# Original dataset\n",
    "pipelines.append(('KNN-orig', Pipeline([knn])))\n",
    "pipelines.append(('CART-orig', Pipeline([cart])))\n",
    "pipelines.append(('NB-orig', Pipeline([naive_bayes])))\n",
    "pipelines.append(('SVM-orig', Pipeline([svm])))\n",
    "\n",
    "# Standardized dataset\n",
    "pipelines.append(('KNN-std', Pipeline([standard_scaler, knn])))\n",
    "pipelines.append(('CART-std', Pipeline([standard_scaler, cart])))\n",
    "pipelines.append(('NB-std', Pipeline([standard_scaler, naive_bayes])))\n",
    "pipelines.append(('SVM-std', Pipeline([standard_scaler, svm])))\n",
    "\n",
    "# Normalized dataset\n",
    "pipelines.append(('KNN-norm', Pipeline([min_max_scaler, knn])))\n",
    "pipelines.append(('CART-norm', Pipeline([min_max_scaler, cart])))\n",
    "pipelines.append(('NB-norm', Pipeline([min_max_scaler, naive_bayes])))\n",
    "pipelines.append(('SVM-norm', Pipeline([min_max_scaler, svm])))\n",
    "\n",
    "# Pipelines execution\n",
    "for name, model in pipelines:\n",
    "    cv_results = cross_val_score(model, X_train, y_train, cv=kfold, scoring=scoring)\n",
    "    results.append(cv_results)\n",
    "    names.append(name)\n",
    "    msg = f\"{name}: {cv_results.mean():.4f}({cv_results.std():.4f})\"\n",
    "    print(msg)"
   ]
  },
  {
   "cell_type": "code",
   "execution_count": 9,
   "id": "113656f3",
   "metadata": {},
   "outputs": [
    {
     "data": {
      "application/vnd.plotly.v1+json": {
       "config": {
        "plotlyServerURL": "https://plot.ly"
       },
       "data": [
        {
         "alignmentgroup": "True",
         "hovertemplate": "Estimator=%{x}<br>Cross validation score=%{y}<extra></extra>",
         "legendgroup": "",
         "marker": {
          "color": "#636efa"
         },
         "name": "",
         "notched": false,
         "offsetgroup": "",
         "orientation": "v",
         "showlegend": false,
         "type": "box",
         "x": [
          "KNN-orig",
          "KNN-orig",
          "KNN-orig",
          "KNN-orig",
          "KNN-orig",
          "KNN-orig",
          "KNN-orig",
          "KNN-orig",
          "KNN-orig",
          "KNN-orig",
          "CART-orig",
          "CART-orig",
          "CART-orig",
          "CART-orig",
          "CART-orig",
          "CART-orig",
          "CART-orig",
          "CART-orig",
          "CART-orig",
          "CART-orig",
          "NB-orig",
          "NB-orig",
          "NB-orig",
          "NB-orig",
          "NB-orig",
          "NB-orig",
          "NB-orig",
          "NB-orig",
          "NB-orig",
          "NB-orig",
          "SVM-orig",
          "SVM-orig",
          "SVM-orig",
          "SVM-orig",
          "SVM-orig",
          "SVM-orig",
          "SVM-orig",
          "SVM-orig",
          "SVM-orig",
          "SVM-orig",
          "KNN-std",
          "KNN-std",
          "KNN-std",
          "KNN-std",
          "KNN-std",
          "KNN-std",
          "KNN-std",
          "KNN-std",
          "KNN-std",
          "KNN-std",
          "CART-std",
          "CART-std",
          "CART-std",
          "CART-std",
          "CART-std",
          "CART-std",
          "CART-std",
          "CART-std",
          "CART-std",
          "CART-std",
          "NB-std",
          "NB-std",
          "NB-std",
          "NB-std",
          "NB-std",
          "NB-std",
          "NB-std",
          "NB-std",
          "NB-std",
          "NB-std",
          "SVM-std",
          "SVM-std",
          "SVM-std",
          "SVM-std",
          "SVM-std",
          "SVM-std",
          "SVM-std",
          "SVM-std",
          "SVM-std",
          "SVM-std",
          "KNN-norm",
          "KNN-norm",
          "KNN-norm",
          "KNN-norm",
          "KNN-norm",
          "KNN-norm",
          "KNN-norm",
          "KNN-norm",
          "KNN-norm",
          "KNN-norm",
          "CART-norm",
          "CART-norm",
          "CART-norm",
          "CART-norm",
          "CART-norm",
          "CART-norm",
          "CART-norm",
          "CART-norm",
          "CART-norm",
          "CART-norm",
          "NB-norm",
          "NB-norm",
          "NB-norm",
          "NB-norm",
          "NB-norm",
          "NB-norm",
          "NB-norm",
          "NB-norm",
          "NB-norm",
          "NB-norm",
          "SVM-norm",
          "SVM-norm",
          "SVM-norm",
          "SVM-norm",
          "SVM-norm",
          "SVM-norm",
          "SVM-norm",
          "SVM-norm",
          "SVM-norm",
          "SVM-norm"
         ],
         "x0": " ",
         "xaxis": "x",
         "y": {
          "bdata": "vL1ClDFY7z/SX89VLBvvP1iIMgbrC+8/QualRPBI7z/dsJW2qfzuP9Jfz1UsG+8/0l/PVSwb7z/+o+jYIaHuP+gBXBcn3u4/3bCVtqn87j/HDgn1rjnvP+gBXBcn3u4/WIgyBusL7z9NN2ylbSrvP2PZ+GZo7e4/xw4J9a457z/zUiJ4pL/uP48dEupdc+4/3bCVtqn87j/SX89VLBvvP5vK73G5s+8/phu20jaV7z+mG7bSNpXvPxaijMH6wu8/phu20jaV7z8h81IieKTvPyxEGYP1he8/0l/PVSwb7z83ld/jcmfvPyxEGYP1he8/sWx8M7R27z/HDgn1rjnvP92wlbap/O4/sWx8M7R27z/SX89VLBvvP8cOCfWuOe8/QualRPBI7z/dsJW2qfzuP2PZ+GZo7e4/Y9n4Zmjt7j+xbHwztHbvPzeV3+NyZ+8/LEQZg/WF7z8sRBmD9YXvP1iIMgbrC+8/N5Xf43Jn7z+8vUKUMVjvP92wlbap/O4/QualRPBI7z83ld/jcmfvP7y9QpQxWO8/Y9n4Zmjt7j9YiDIG6wvvP9Jfz1UsG+8/3bCVtqn87j/HDgn1rjnvP/NSInikv+4/CfWuOZ+C7j/oAVwXJ97uP92wlbap/O4/m8rvcbmz7z+mG7bSNpXvP6YbttI2le8/FqKMwfrC7z+mG7bSNpXvPyHzUiJ4pO8/LEQZg/WF7z/SX89VLBvvPzeV3+NyZ+8/LEQZg/WF7z+byu9xubPvPyxEGYP1he8/phu20jaV7z8WoozB+sLvPzeV3+NyZ+8/phu20jaV7z+mG7bSNpXvP9Jfz1UsG+8/vL1ClDFY7z8sRBmD9YXvP7FsfDO0du8/vL1ClDFY7z8sRBmD9YXvP7FsfDO0du8/TTdspW0q7z+8vUKUMVjvP7y9QpQxWO8/6AFcFyfe7j/HDgn1rjnvPzeV3+NyZ+8/QualRPBI7z/oAVwXJ97uP92wlbap/O4/xw4J9a457z9j2fhmaO3uP003bKVtKu8/6AFcFyfe7j8J9a45n4LuP/NSInikv+4/0l/PVSwb7z+byu9xubPvP6YbttI2le8/phu20jaV7z8WoozB+sLvP6YbttI2le8/IfNSInik7z8sRBmD9YXvP9Jfz1UsG+8/N5Xf43Jn7z8sRBmD9YXvP5vK73G5s+8/LEQZg/WF7z+mG7bSNpXvPxaijMH6wu8/sWx8M7R27z+mG7bSNpXvP6YbttI2le8/0l/PVSwb7z83ld/jcmfvPyxEGYP1he8/",
          "dtype": "f8"
         },
         "y0": " ",
         "yaxis": "y"
        }
       ],
       "layout": {
        "boxmode": "group",
        "height": 400,
        "legend": {
         "tracegroupgap": 0
        },
        "template": {
         "data": {
          "bar": [
           {
            "error_x": {
             "color": "#2a3f5f"
            },
            "error_y": {
             "color": "#2a3f5f"
            },
            "marker": {
             "line": {
              "color": "#E5ECF6",
              "width": 0.5
             },
             "pattern": {
              "fillmode": "overlay",
              "size": 10,
              "solidity": 0.2
             }
            },
            "type": "bar"
           }
          ],
          "barpolar": [
           {
            "marker": {
             "line": {
              "color": "#E5ECF6",
              "width": 0.5
             },
             "pattern": {
              "fillmode": "overlay",
              "size": 10,
              "solidity": 0.2
             }
            },
            "type": "barpolar"
           }
          ],
          "carpet": [
           {
            "aaxis": {
             "endlinecolor": "#2a3f5f",
             "gridcolor": "white",
             "linecolor": "white",
             "minorgridcolor": "white",
             "startlinecolor": "#2a3f5f"
            },
            "baxis": {
             "endlinecolor": "#2a3f5f",
             "gridcolor": "white",
             "linecolor": "white",
             "minorgridcolor": "white",
             "startlinecolor": "#2a3f5f"
            },
            "type": "carpet"
           }
          ],
          "choropleth": [
           {
            "colorbar": {
             "outlinewidth": 0,
             "ticks": ""
            },
            "type": "choropleth"
           }
          ],
          "contour": [
           {
            "colorbar": {
             "outlinewidth": 0,
             "ticks": ""
            },
            "colorscale": [
             [
              0,
              "#0d0887"
             ],
             [
              0.1111111111111111,
              "#46039f"
             ],
             [
              0.2222222222222222,
              "#7201a8"
             ],
             [
              0.3333333333333333,
              "#9c179e"
             ],
             [
              0.4444444444444444,
              "#bd3786"
             ],
             [
              0.5555555555555556,
              "#d8576b"
             ],
             [
              0.6666666666666666,
              "#ed7953"
             ],
             [
              0.7777777777777778,
              "#fb9f3a"
             ],
             [
              0.8888888888888888,
              "#fdca26"
             ],
             [
              1,
              "#f0f921"
             ]
            ],
            "type": "contour"
           }
          ],
          "contourcarpet": [
           {
            "colorbar": {
             "outlinewidth": 0,
             "ticks": ""
            },
            "type": "contourcarpet"
           }
          ],
          "heatmap": [
           {
            "colorbar": {
             "outlinewidth": 0,
             "ticks": ""
            },
            "colorscale": [
             [
              0,
              "#0d0887"
             ],
             [
              0.1111111111111111,
              "#46039f"
             ],
             [
              0.2222222222222222,
              "#7201a8"
             ],
             [
              0.3333333333333333,
              "#9c179e"
             ],
             [
              0.4444444444444444,
              "#bd3786"
             ],
             [
              0.5555555555555556,
              "#d8576b"
             ],
             [
              0.6666666666666666,
              "#ed7953"
             ],
             [
              0.7777777777777778,
              "#fb9f3a"
             ],
             [
              0.8888888888888888,
              "#fdca26"
             ],
             [
              1,
              "#f0f921"
             ]
            ],
            "type": "heatmap"
           }
          ],
          "histogram": [
           {
            "marker": {
             "pattern": {
              "fillmode": "overlay",
              "size": 10,
              "solidity": 0.2
             }
            },
            "type": "histogram"
           }
          ],
          "histogram2d": [
           {
            "colorbar": {
             "outlinewidth": 0,
             "ticks": ""
            },
            "colorscale": [
             [
              0,
              "#0d0887"
             ],
             [
              0.1111111111111111,
              "#46039f"
             ],
             [
              0.2222222222222222,
              "#7201a8"
             ],
             [
              0.3333333333333333,
              "#9c179e"
             ],
             [
              0.4444444444444444,
              "#bd3786"
             ],
             [
              0.5555555555555556,
              "#d8576b"
             ],
             [
              0.6666666666666666,
              "#ed7953"
             ],
             [
              0.7777777777777778,
              "#fb9f3a"
             ],
             [
              0.8888888888888888,
              "#fdca26"
             ],
             [
              1,
              "#f0f921"
             ]
            ],
            "type": "histogram2d"
           }
          ],
          "histogram2dcontour": [
           {
            "colorbar": {
             "outlinewidth": 0,
             "ticks": ""
            },
            "colorscale": [
             [
              0,
              "#0d0887"
             ],
             [
              0.1111111111111111,
              "#46039f"
             ],
             [
              0.2222222222222222,
              "#7201a8"
             ],
             [
              0.3333333333333333,
              "#9c179e"
             ],
             [
              0.4444444444444444,
              "#bd3786"
             ],
             [
              0.5555555555555556,
              "#d8576b"
             ],
             [
              0.6666666666666666,
              "#ed7953"
             ],
             [
              0.7777777777777778,
              "#fb9f3a"
             ],
             [
              0.8888888888888888,
              "#fdca26"
             ],
             [
              1,
              "#f0f921"
             ]
            ],
            "type": "histogram2dcontour"
           }
          ],
          "mesh3d": [
           {
            "colorbar": {
             "outlinewidth": 0,
             "ticks": ""
            },
            "type": "mesh3d"
           }
          ],
          "parcoords": [
           {
            "line": {
             "colorbar": {
              "outlinewidth": 0,
              "ticks": ""
             }
            },
            "type": "parcoords"
           }
          ],
          "pie": [
           {
            "automargin": true,
            "type": "pie"
           }
          ],
          "scatter": [
           {
            "fillpattern": {
             "fillmode": "overlay",
             "size": 10,
             "solidity": 0.2
            },
            "type": "scatter"
           }
          ],
          "scatter3d": [
           {
            "line": {
             "colorbar": {
              "outlinewidth": 0,
              "ticks": ""
             }
            },
            "marker": {
             "colorbar": {
              "outlinewidth": 0,
              "ticks": ""
             }
            },
            "type": "scatter3d"
           }
          ],
          "scattercarpet": [
           {
            "marker": {
             "colorbar": {
              "outlinewidth": 0,
              "ticks": ""
             }
            },
            "type": "scattercarpet"
           }
          ],
          "scattergeo": [
           {
            "marker": {
             "colorbar": {
              "outlinewidth": 0,
              "ticks": ""
             }
            },
            "type": "scattergeo"
           }
          ],
          "scattergl": [
           {
            "marker": {
             "colorbar": {
              "outlinewidth": 0,
              "ticks": ""
             }
            },
            "type": "scattergl"
           }
          ],
          "scattermap": [
           {
            "marker": {
             "colorbar": {
              "outlinewidth": 0,
              "ticks": ""
             }
            },
            "type": "scattermap"
           }
          ],
          "scattermapbox": [
           {
            "marker": {
             "colorbar": {
              "outlinewidth": 0,
              "ticks": ""
             }
            },
            "type": "scattermapbox"
           }
          ],
          "scatterpolar": [
           {
            "marker": {
             "colorbar": {
              "outlinewidth": 0,
              "ticks": ""
             }
            },
            "type": "scatterpolar"
           }
          ],
          "scatterpolargl": [
           {
            "marker": {
             "colorbar": {
              "outlinewidth": 0,
              "ticks": ""
             }
            },
            "type": "scatterpolargl"
           }
          ],
          "scatterternary": [
           {
            "marker": {
             "colorbar": {
              "outlinewidth": 0,
              "ticks": ""
             }
            },
            "type": "scatterternary"
           }
          ],
          "surface": [
           {
            "colorbar": {
             "outlinewidth": 0,
             "ticks": ""
            },
            "colorscale": [
             [
              0,
              "#0d0887"
             ],
             [
              0.1111111111111111,
              "#46039f"
             ],
             [
              0.2222222222222222,
              "#7201a8"
             ],
             [
              0.3333333333333333,
              "#9c179e"
             ],
             [
              0.4444444444444444,
              "#bd3786"
             ],
             [
              0.5555555555555556,
              "#d8576b"
             ],
             [
              0.6666666666666666,
              "#ed7953"
             ],
             [
              0.7777777777777778,
              "#fb9f3a"
             ],
             [
              0.8888888888888888,
              "#fdca26"
             ],
             [
              1,
              "#f0f921"
             ]
            ],
            "type": "surface"
           }
          ],
          "table": [
           {
            "cells": {
             "fill": {
              "color": "#EBF0F8"
             },
             "line": {
              "color": "white"
             }
            },
            "header": {
             "fill": {
              "color": "#C8D4E3"
             },
             "line": {
              "color": "white"
             }
            },
            "type": "table"
           }
          ]
         },
         "layout": {
          "annotationdefaults": {
           "arrowcolor": "#2a3f5f",
           "arrowhead": 0,
           "arrowwidth": 1
          },
          "autotypenumbers": "strict",
          "coloraxis": {
           "colorbar": {
            "outlinewidth": 0,
            "ticks": ""
           }
          },
          "colorscale": {
           "diverging": [
            [
             0,
             "#8e0152"
            ],
            [
             0.1,
             "#c51b7d"
            ],
            [
             0.2,
             "#de77ae"
            ],
            [
             0.3,
             "#f1b6da"
            ],
            [
             0.4,
             "#fde0ef"
            ],
            [
             0.5,
             "#f7f7f7"
            ],
            [
             0.6,
             "#e6f5d0"
            ],
            [
             0.7,
             "#b8e186"
            ],
            [
             0.8,
             "#7fbc41"
            ],
            [
             0.9,
             "#4d9221"
            ],
            [
             1,
             "#276419"
            ]
           ],
           "sequential": [
            [
             0,
             "#0d0887"
            ],
            [
             0.1111111111111111,
             "#46039f"
            ],
            [
             0.2222222222222222,
             "#7201a8"
            ],
            [
             0.3333333333333333,
             "#9c179e"
            ],
            [
             0.4444444444444444,
             "#bd3786"
            ],
            [
             0.5555555555555556,
             "#d8576b"
            ],
            [
             0.6666666666666666,
             "#ed7953"
            ],
            [
             0.7777777777777778,
             "#fb9f3a"
            ],
            [
             0.8888888888888888,
             "#fdca26"
            ],
            [
             1,
             "#f0f921"
            ]
           ],
           "sequentialminus": [
            [
             0,
             "#0d0887"
            ],
            [
             0.1111111111111111,
             "#46039f"
            ],
            [
             0.2222222222222222,
             "#7201a8"
            ],
            [
             0.3333333333333333,
             "#9c179e"
            ],
            [
             0.4444444444444444,
             "#bd3786"
            ],
            [
             0.5555555555555556,
             "#d8576b"
            ],
            [
             0.6666666666666666,
             "#ed7953"
            ],
            [
             0.7777777777777778,
             "#fb9f3a"
            ],
            [
             0.8888888888888888,
             "#fdca26"
            ],
            [
             1,
             "#f0f921"
            ]
           ]
          },
          "colorway": [
           "#636efa",
           "#EF553B",
           "#00cc96",
           "#ab63fa",
           "#FFA15A",
           "#19d3f3",
           "#FF6692",
           "#B6E880",
           "#FF97FF",
           "#FECB52"
          ],
          "font": {
           "color": "#2a3f5f"
          },
          "geo": {
           "bgcolor": "white",
           "lakecolor": "white",
           "landcolor": "#E5ECF6",
           "showlakes": true,
           "showland": true,
           "subunitcolor": "white"
          },
          "hoverlabel": {
           "align": "left"
          },
          "hovermode": "closest",
          "mapbox": {
           "style": "light"
          },
          "paper_bgcolor": "white",
          "plot_bgcolor": "#E5ECF6",
          "polar": {
           "angularaxis": {
            "gridcolor": "white",
            "linecolor": "white",
            "ticks": ""
           },
           "bgcolor": "#E5ECF6",
           "radialaxis": {
            "gridcolor": "white",
            "linecolor": "white",
            "ticks": ""
           }
          },
          "scene": {
           "xaxis": {
            "backgroundcolor": "#E5ECF6",
            "gridcolor": "white",
            "gridwidth": 2,
            "linecolor": "white",
            "showbackground": true,
            "ticks": "",
            "zerolinecolor": "white"
           },
           "yaxis": {
            "backgroundcolor": "#E5ECF6",
            "gridcolor": "white",
            "gridwidth": 2,
            "linecolor": "white",
            "showbackground": true,
            "ticks": "",
            "zerolinecolor": "white"
           },
           "zaxis": {
            "backgroundcolor": "#E5ECF6",
            "gridcolor": "white",
            "gridwidth": 2,
            "linecolor": "white",
            "showbackground": true,
            "ticks": "",
            "zerolinecolor": "white"
           }
          },
          "shapedefaults": {
           "line": {
            "color": "#2a3f5f"
           }
          },
          "ternary": {
           "aaxis": {
            "gridcolor": "white",
            "linecolor": "white",
            "ticks": ""
           },
           "baxis": {
            "gridcolor": "white",
            "linecolor": "white",
            "ticks": ""
           },
           "bgcolor": "#E5ECF6",
           "caxis": {
            "gridcolor": "white",
            "linecolor": "white",
            "ticks": ""
           }
          },
          "title": {
           "x": 0.05
          },
          "xaxis": {
           "automargin": true,
           "gridcolor": "white",
           "linecolor": "white",
           "ticks": "",
           "title": {
            "standoff": 15
           },
           "zerolinecolor": "white",
           "zerolinewidth": 2
          },
          "yaxis": {
           "automargin": true,
           "gridcolor": "white",
           "linecolor": "white",
           "ticks": "",
           "title": {
            "standoff": 15
           },
           "zerolinecolor": "white",
           "zerolinewidth": 2
          }
         }
        },
        "title": {
         "text": "Model Comparison - Original, Standardized and Normalized dataset"
        },
        "width": 800,
        "xaxis": {
         "anchor": "y",
         "domain": [
          0,
          1
         ],
         "title": {
          "text": "Estimator"
         }
        },
        "yaxis": {
         "anchor": "x",
         "domain": [
          0,
          1
         ],
         "title": {
          "text": "Cross validation score"
         }
        }
       }
      }
     },
     "metadata": {},
     "output_type": "display_data"
    }
   ],
   "source": [
    "# Boxplot for model comparison\n",
    "dict_models = {name: result for name, result in zip([model[0] for model in pipelines],results)}\n",
    "df_models = pd.DataFrame(dict_models)\n",
    "df_models = df_models.melt(var_name = 'Estimator', value_name='Cross validation score')\n",
    "\n",
    "fig = px.box(df_models, x=\"Estimator\",y=\"Cross validation score\",\n",
    "             title='Model Comparison - Original, Standardized and Normalized dataset')\n",
    "fig.update_layout(width=800,height=400)\n",
    "fig.show()\n"
   ]
  },
  {
   "cell_type": "markdown",
   "id": "84c1399e",
   "metadata": {},
   "source": [
    "<blockquote>After comparison between normalized and standardized to each classifier algorithm chosen\n",
    "(KNN, CART, NV and NB), the Naive Bayes is still the higher cross validation accuracy with lower standard deviation. Also the classifier for this dataset is insensitive to normalization and standardization. </blockquote>"
   ]
  },
  {
   "cell_type": "markdown",
   "id": "d2ebf81c",
   "metadata": {},
   "source": [
    "#### Hyperparameters optmization"
   ]
  },
  {
   "cell_type": "code",
   "execution_count": 10,
   "id": "dc0617ef",
   "metadata": {},
   "outputs": [
    {
     "name": "stdout",
     "output_type": "stream",
     "text": [
      "Best grid: NB-orig: 0.98603 score with 0.00012 as parameter\n",
      "Best grid: NB-padr: 0.98603 score with 0.04329 as parameter\n",
      "Best grid: NB-norm: 0.98603 score with 0.03511 as parameter\n"
     ]
    }
   ],
   "source": [
    "# NB tunning\n",
    "\n",
    "np.random.seed(8) # Definition of a global seed\n",
    "\n",
    "pipelines = []\n",
    "\n",
    "# Pipeline component definition\n",
    "nb = ('NB', GaussianNB())\n",
    "standard_scaler = ('StandardScaler', StandardScaler())\n",
    "min_max_scaler = ('MinMaxScaler', MinMaxScaler())\n",
    "\n",
    "pipelines.append(('NB-orig', Pipeline(steps=[nb])))\n",
    "pipelines.append(('NB-padr', Pipeline(steps=[standard_scaler, nb])))\n",
    "pipelines.append(('NB-norm', Pipeline(steps=[min_max_scaler, nb])))\n",
    "\n",
    "param_grid_nb = {\n",
    "    \"NB__var_smoothing\": np.logspace(0,-9,100),\n",
    "}\n",
    "\n",
    "# list of best grid parameters\n",
    "grid_param = []\n",
    "\n",
    "# Prepare and execute GridSearchCV\n",
    "for name, model in pipelines:\n",
    "    grid = GridSearchCV(estimator=model, param_grid=param_grid_nb, scoring=scoring, cv=kfold)\n",
    "    grid.fit(X_train, y_train)\n",
    "    # Print best configuration\n",
    "    print(f\"Best grid: {name}: {grid.best_score_:.5f} score with {grid.best_params_['NB__var_smoothing']:.5f} as parameter\")\n",
    "    # store best paramenter for each model\n",
    "    grid_param.append(grid.best_params_['NB__var_smoothing'])"
   ]
  },
  {
   "cell_type": "markdown",
   "id": "ceed26bd",
   "metadata": {},
   "source": [
    "<blockquote>Best grid for Naive Bayes classifier shown similar results for original, standardized and normalized scaler. Hence, it has been chosen original Nive Bayes with smoothing factor parameter as 0.00012 to be carried on to finalize the model</blockquote>"
   ]
  },
  {
   "cell_type": "markdown",
   "id": "e6b60fbf",
   "metadata": {},
   "source": [
    "### <i><b> Model Finalization </i></b>\n",
    "##### Train normalized x non-normalized dataset "
   ]
  },
  {
   "cell_type": "code",
   "execution_count": 18,
   "id": "ad78de81",
   "metadata": {},
   "outputs": [
    {
     "name": "stdout",
     "output_type": "stream",
     "text": [
      "0.9847958297132928\n"
     ]
    }
   ],
   "source": [
    "# Pipeline and model preparation - with dataset normalization\n",
    "model = GaussianNB(var_smoothing= grid_param[0])\n",
    "pipeline = Pipeline(steps=[(\"NB\",model)])\n",
    "scaler = MinMaxScaler().fit(X_train) # scale adjustment with training dataset\n",
    "rescaledX_train = scaler.transform(X_train) # normalization of trainning dataset\n",
    "pipeline.fit(rescaledX_train,y_train)\n",
    "\n",
    "# Accuracy estimative for the test dataset\n",
    "rescaledX_test = scaler.transform(X_test) # # normalization of test dataset\n",
    "predictions = pipeline.predict(rescaledX_test)\n",
    "print(accuracy_score(y_test, predictions))"
   ]
  },
  {
   "cell_type": "code",
   "execution_count": 17,
   "id": "a499c9d6",
   "metadata": {},
   "outputs": [
    {
     "name": "stdout",
     "output_type": "stream",
     "text": [
      "0.9852302345786272\n"
     ]
    }
   ],
   "source": [
    "# Pipeline and model preparation - without dataset normalization\n",
    "model = GaussianNB(var_smoothing= grid_param[0])\n",
    "pipeline = Pipeline(steps=[(\"NB\",model)])\n",
    "\n",
    "# Accuracy estimative for the test dataset\n",
    "pipeline.fit(X_train,y_train)\n",
    "predictions = pipeline.predict(X_test)\n",
    "print(accuracy_score(y_test, predictions))"
   ]
  },
  {
   "cell_type": "markdown",
   "id": "70b7e5d8",
   "metadata": {},
   "source": [
    "##### Save model and export golden dataset for test purpose"
   ]
  },
  {
   "cell_type": "code",
   "execution_count": null,
   "id": "76d6817c",
   "metadata": {},
   "outputs": [],
   "source": [
    "## Saving model\n",
    "file = Path.cwd().parent / 'models' / 'nb_diagnosis_classifier.pkl'\n",
    "pickle_out = open(file,'wb')\n",
    "pickle.dump(model,pickle_out)\n",
    "pickle_out.close()"
   ]
  },
  {
   "cell_type": "code",
   "execution_count": 18,
   "id": "36dcda08",
   "metadata": {},
   "outputs": [],
   "source": [
    "## Saving pipeline\n",
    "file = Path.cwd().parent / 'pipeline' / 'nb_diagnosis_pipeline.pkl'\n",
    "pickle_out = open(file,'wb')\n",
    "pickle.dump(pipeline,pickle_out)\n",
    "pickle_out.close()"
   ]
  },
  {
   "cell_type": "code",
   "execution_count": 19,
   "id": "a2a0882b",
   "metadata": {},
   "outputs": [],
   "source": [
    "# golden dataset export\n",
    "file_golden = Path.cwd().parent / 'data' / 'golden_dataset.csv'\n",
    "\n",
    "test_array = np.concatenate((X_test,y_test.reshape(len(y_test),1)),axis=1)\n",
    "df_golden = pd.DataFrame(test_array, columns=dataset.columns)\n",
    "\n",
    "df_golden.to_csv(file_golden, sep=',', index=False)"
   ]
  },
  {
   "cell_type": "markdown",
   "id": "a9177869",
   "metadata": {},
   "source": [
    "#### <b><i>Conclusions and General comments</i></b>"
   ]
  },
  {
   "cell_type": "markdown",
   "id": "c5ba0dcd",
   "metadata": {},
   "source": [
    "<blocknote>For the dataset that has been chosen Naive Bayes classifier has the higher accuracy and lower standard deviation according to cross-validation method. Also normalalization and standardization hasn't any effecto to improve the classifier accuracy, and even dataset normalization either. The explanation can may arise from the simplified dataset which does not have many parameters and a gaussian curve may be already to close to the behaviour of classification problem.</blocknote>    "
   ]
  },
  {
   "cell_type": "markdown",
   "id": "9bf82161",
   "metadata": {},
   "source": [
    "#### <b><i>Reflections on data Security</i></b>"
   ]
  },
  {
   "cell_type": "markdown",
   "id": "64e0c815",
   "metadata": {},
   "source": [
    "<blocknote>If this were a dataset with personnel or industrial information, some techniques should have been applied for protection. The dataset could have acess control with multi-factor authentication and captcha verification. Sensitive data that is not essential for the classification algorithm, such as the location and name of the company where the equipment is being monitored, should be anonymized. These are only some examples of implementation for security data protection. </blocknote>    "
   ]
  },
  {
   "cell_type": "markdown",
   "id": "f708ed17",
   "metadata": {},
   "source": []
  }
 ],
 "metadata": {
  "kernelspec": {
   "display_name": "mpv2-oficial",
   "language": "python",
   "name": "python3"
  },
  "language_info": {
   "codemirror_mode": {
    "name": "ipython",
    "version": 3
   },
   "file_extension": ".py",
   "mimetype": "text/x-python",
   "name": "python",
   "nbconvert_exporter": "python",
   "pygments_lexer": "ipython3",
   "version": "3.13.5"
  }
 },
 "nbformat": 4,
 "nbformat_minor": 5
}
