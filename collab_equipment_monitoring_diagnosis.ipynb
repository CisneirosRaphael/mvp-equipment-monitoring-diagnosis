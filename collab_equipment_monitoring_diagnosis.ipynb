{
  "cells": [
    {
      "cell_type": "markdown",
      "metadata": {
        "id": "view-in-github",
        "colab_type": "text"
      },
      "source": [
        "<a href=\"https://colab.research.google.com/github/CisneirosRaphael/mvp-equipment-monitoring-diagnosis/blob/main/collab_equipment_monitoring_diagnosis.ipynb\" target=\"_parent\"><img src=\"https://colab.research.google.com/assets/colab-badge.svg\" alt=\"Open In Colab\"/></a>"
      ]
    },
    {
      "cell_type": "markdown",
      "id": "11a48a3f",
      "metadata": {
        "id": "11a48a3f"
      },
      "source": [
        "##### <b><i>Google collab</i></b> notebook to find wich algorithm and parameters are more <br> suitable to a classification problem (faulty/not faulty) based on equipment monitoring data"
      ]
    },
    {
      "cell_type": "code",
      "execution_count": 1,
      "id": "45a4f3e7",
      "metadata": {
        "id": "45a4f3e7"
      },
      "outputs": [],
      "source": [
        "# imports\n",
        "import pandas as pd\n",
        "import numpy as np\n",
        "import plotly.express as px\n",
        "from sklearn.preprocessing import StandardScaler\n",
        "from sklearn.preprocessing import MinMaxScaler\n",
        "from sklearn.model_selection import train_test_split\n",
        "from sklearn.model_selection import KFold\n",
        "from sklearn.model_selection import StratifiedKFold\n",
        "from sklearn.model_selection import cross_val_score\n",
        "from sklearn.model_selection import GridSearchCV\n",
        "from sklearn.metrics import accuracy_score\n",
        "from sklearn.pipeline import Pipeline\n",
        "from sklearn.tree import DecisionTreeClassifier\n",
        "from sklearn.neighbors import KNeighborsClassifier\n",
        "from sklearn.naive_bayes import GaussianNB\n",
        "from sklearn.svm import SVC\n",
        "from pathlib import Path\n",
        "import pickle"
      ]
    },
    {
      "cell_type": "markdown",
      "id": "4c3b821c",
      "metadata": {
        "id": "4c3b821c"
      },
      "source": [
        "#### Load Dataset"
      ]
    },
    {
      "cell_type": "code",
      "execution_count": 2,
      "id": "7af09ebe",
      "metadata": {
        "id": "7af09ebe"
      },
      "outputs": [],
      "source": [
        "# assign url to read the dataset\n",
        "url = 'https://raw.githubusercontent.com/CisneirosRaphael/mvp-equipment-monitoring-diagnosis/refs/heads/main/api/MachineLearning/data/equipment_monitoring_data.csv'\n",
        "\n",
        "# Read csv file\n",
        "dataset = pd.read_csv(url, delimiter=',')"
      ]
    },
    {
      "cell_type": "code",
      "execution_count": 3,
      "id": "dd131a0a",
      "metadata": {
        "id": "dd131a0a",
        "outputId": "60bf0591-56ea-46ad-e337-f8b8f2cdbe61",
        "colab": {
          "base_uri": "https://localhost:8080/",
          "height": 206
        }
      },
      "outputs": [
        {
          "output_type": "execute_result",
          "data": {
            "text/plain": [
              "   temperature   pressure  vibration   humidity  faulty\n",
              "0    58.180180  25.029278   0.606516  45.694907     0.0\n",
              "1    75.740712  22.954018   2.338095  41.867407     0.0\n",
              "2    71.358594  27.276830   1.389198  58.954409     0.0\n",
              "3    71.616985  32.242921   1.770690  40.565138     0.0\n",
              "4    66.506832  45.197471   0.345398  43.253795     0.0"
            ],
            "text/html": [
              "\n",
              "  <div id=\"df-1000cf95-91e0-4694-917e-76b43e4bb85c\" class=\"colab-df-container\">\n",
              "    <div>\n",
              "<style scoped>\n",
              "    .dataframe tbody tr th:only-of-type {\n",
              "        vertical-align: middle;\n",
              "    }\n",
              "\n",
              "    .dataframe tbody tr th {\n",
              "        vertical-align: top;\n",
              "    }\n",
              "\n",
              "    .dataframe thead th {\n",
              "        text-align: right;\n",
              "    }\n",
              "</style>\n",
              "<table border=\"1\" class=\"dataframe\">\n",
              "  <thead>\n",
              "    <tr style=\"text-align: right;\">\n",
              "      <th></th>\n",
              "      <th>temperature</th>\n",
              "      <th>pressure</th>\n",
              "      <th>vibration</th>\n",
              "      <th>humidity</th>\n",
              "      <th>faulty</th>\n",
              "    </tr>\n",
              "  </thead>\n",
              "  <tbody>\n",
              "    <tr>\n",
              "      <th>0</th>\n",
              "      <td>58.180180</td>\n",
              "      <td>25.029278</td>\n",
              "      <td>0.606516</td>\n",
              "      <td>45.694907</td>\n",
              "      <td>0.0</td>\n",
              "    </tr>\n",
              "    <tr>\n",
              "      <th>1</th>\n",
              "      <td>75.740712</td>\n",
              "      <td>22.954018</td>\n",
              "      <td>2.338095</td>\n",
              "      <td>41.867407</td>\n",
              "      <td>0.0</td>\n",
              "    </tr>\n",
              "    <tr>\n",
              "      <th>2</th>\n",
              "      <td>71.358594</td>\n",
              "      <td>27.276830</td>\n",
              "      <td>1.389198</td>\n",
              "      <td>58.954409</td>\n",
              "      <td>0.0</td>\n",
              "    </tr>\n",
              "    <tr>\n",
              "      <th>3</th>\n",
              "      <td>71.616985</td>\n",
              "      <td>32.242921</td>\n",
              "      <td>1.770690</td>\n",
              "      <td>40.565138</td>\n",
              "      <td>0.0</td>\n",
              "    </tr>\n",
              "    <tr>\n",
              "      <th>4</th>\n",
              "      <td>66.506832</td>\n",
              "      <td>45.197471</td>\n",
              "      <td>0.345398</td>\n",
              "      <td>43.253795</td>\n",
              "      <td>0.0</td>\n",
              "    </tr>\n",
              "  </tbody>\n",
              "</table>\n",
              "</div>\n",
              "    <div class=\"colab-df-buttons\">\n",
              "\n",
              "  <div class=\"colab-df-container\">\n",
              "    <button class=\"colab-df-convert\" onclick=\"convertToInteractive('df-1000cf95-91e0-4694-917e-76b43e4bb85c')\"\n",
              "            title=\"Convert this dataframe to an interactive table.\"\n",
              "            style=\"display:none;\">\n",
              "\n",
              "  <svg xmlns=\"http://www.w3.org/2000/svg\" height=\"24px\" viewBox=\"0 -960 960 960\">\n",
              "    <path d=\"M120-120v-720h720v720H120Zm60-500h600v-160H180v160Zm220 220h160v-160H400v160Zm0 220h160v-160H400v160ZM180-400h160v-160H180v160Zm440 0h160v-160H620v160ZM180-180h160v-160H180v160Zm440 0h160v-160H620v160Z\"/>\n",
              "  </svg>\n",
              "    </button>\n",
              "\n",
              "  <style>\n",
              "    .colab-df-container {\n",
              "      display:flex;\n",
              "      gap: 12px;\n",
              "    }\n",
              "\n",
              "    .colab-df-convert {\n",
              "      background-color: #E8F0FE;\n",
              "      border: none;\n",
              "      border-radius: 50%;\n",
              "      cursor: pointer;\n",
              "      display: none;\n",
              "      fill: #1967D2;\n",
              "      height: 32px;\n",
              "      padding: 0 0 0 0;\n",
              "      width: 32px;\n",
              "    }\n",
              "\n",
              "    .colab-df-convert:hover {\n",
              "      background-color: #E2EBFA;\n",
              "      box-shadow: 0px 1px 2px rgba(60, 64, 67, 0.3), 0px 1px 3px 1px rgba(60, 64, 67, 0.15);\n",
              "      fill: #174EA6;\n",
              "    }\n",
              "\n",
              "    .colab-df-buttons div {\n",
              "      margin-bottom: 4px;\n",
              "    }\n",
              "\n",
              "    [theme=dark] .colab-df-convert {\n",
              "      background-color: #3B4455;\n",
              "      fill: #D2E3FC;\n",
              "    }\n",
              "\n",
              "    [theme=dark] .colab-df-convert:hover {\n",
              "      background-color: #434B5C;\n",
              "      box-shadow: 0px 1px 3px 1px rgba(0, 0, 0, 0.15);\n",
              "      filter: drop-shadow(0px 1px 2px rgba(0, 0, 0, 0.3));\n",
              "      fill: #FFFFFF;\n",
              "    }\n",
              "  </style>\n",
              "\n",
              "    <script>\n",
              "      const buttonEl =\n",
              "        document.querySelector('#df-1000cf95-91e0-4694-917e-76b43e4bb85c button.colab-df-convert');\n",
              "      buttonEl.style.display =\n",
              "        google.colab.kernel.accessAllowed ? 'block' : 'none';\n",
              "\n",
              "      async function convertToInteractive(key) {\n",
              "        const element = document.querySelector('#df-1000cf95-91e0-4694-917e-76b43e4bb85c');\n",
              "        const dataTable =\n",
              "          await google.colab.kernel.invokeFunction('convertToInteractive',\n",
              "                                                    [key], {});\n",
              "        if (!dataTable) return;\n",
              "\n",
              "        const docLinkHtml = 'Like what you see? Visit the ' +\n",
              "          '<a target=\"_blank\" href=https://colab.research.google.com/notebooks/data_table.ipynb>data table notebook</a>'\n",
              "          + ' to learn more about interactive tables.';\n",
              "        element.innerHTML = '';\n",
              "        dataTable['output_type'] = 'display_data';\n",
              "        await google.colab.output.renderOutput(dataTable, element);\n",
              "        const docLink = document.createElement('div');\n",
              "        docLink.innerHTML = docLinkHtml;\n",
              "        element.appendChild(docLink);\n",
              "      }\n",
              "    </script>\n",
              "  </div>\n",
              "\n",
              "\n",
              "    <div id=\"df-57364442-2263-4e14-97c3-3587c65f1168\">\n",
              "      <button class=\"colab-df-quickchart\" onclick=\"quickchart('df-57364442-2263-4e14-97c3-3587c65f1168')\"\n",
              "                title=\"Suggest charts\"\n",
              "                style=\"display:none;\">\n",
              "\n",
              "<svg xmlns=\"http://www.w3.org/2000/svg\" height=\"24px\"viewBox=\"0 0 24 24\"\n",
              "     width=\"24px\">\n",
              "    <g>\n",
              "        <path d=\"M19 3H5c-1.1 0-2 .9-2 2v14c0 1.1.9 2 2 2h14c1.1 0 2-.9 2-2V5c0-1.1-.9-2-2-2zM9 17H7v-7h2v7zm4 0h-2V7h2v10zm4 0h-2v-4h2v4z\"/>\n",
              "    </g>\n",
              "</svg>\n",
              "      </button>\n",
              "\n",
              "<style>\n",
              "  .colab-df-quickchart {\n",
              "      --bg-color: #E8F0FE;\n",
              "      --fill-color: #1967D2;\n",
              "      --hover-bg-color: #E2EBFA;\n",
              "      --hover-fill-color: #174EA6;\n",
              "      --disabled-fill-color: #AAA;\n",
              "      --disabled-bg-color: #DDD;\n",
              "  }\n",
              "\n",
              "  [theme=dark] .colab-df-quickchart {\n",
              "      --bg-color: #3B4455;\n",
              "      --fill-color: #D2E3FC;\n",
              "      --hover-bg-color: #434B5C;\n",
              "      --hover-fill-color: #FFFFFF;\n",
              "      --disabled-bg-color: #3B4455;\n",
              "      --disabled-fill-color: #666;\n",
              "  }\n",
              "\n",
              "  .colab-df-quickchart {\n",
              "    background-color: var(--bg-color);\n",
              "    border: none;\n",
              "    border-radius: 50%;\n",
              "    cursor: pointer;\n",
              "    display: none;\n",
              "    fill: var(--fill-color);\n",
              "    height: 32px;\n",
              "    padding: 0;\n",
              "    width: 32px;\n",
              "  }\n",
              "\n",
              "  .colab-df-quickchart:hover {\n",
              "    background-color: var(--hover-bg-color);\n",
              "    box-shadow: 0 1px 2px rgba(60, 64, 67, 0.3), 0 1px 3px 1px rgba(60, 64, 67, 0.15);\n",
              "    fill: var(--button-hover-fill-color);\n",
              "  }\n",
              "\n",
              "  .colab-df-quickchart-complete:disabled,\n",
              "  .colab-df-quickchart-complete:disabled:hover {\n",
              "    background-color: var(--disabled-bg-color);\n",
              "    fill: var(--disabled-fill-color);\n",
              "    box-shadow: none;\n",
              "  }\n",
              "\n",
              "  .colab-df-spinner {\n",
              "    border: 2px solid var(--fill-color);\n",
              "    border-color: transparent;\n",
              "    border-bottom-color: var(--fill-color);\n",
              "    animation:\n",
              "      spin 1s steps(1) infinite;\n",
              "  }\n",
              "\n",
              "  @keyframes spin {\n",
              "    0% {\n",
              "      border-color: transparent;\n",
              "      border-bottom-color: var(--fill-color);\n",
              "      border-left-color: var(--fill-color);\n",
              "    }\n",
              "    20% {\n",
              "      border-color: transparent;\n",
              "      border-left-color: var(--fill-color);\n",
              "      border-top-color: var(--fill-color);\n",
              "    }\n",
              "    30% {\n",
              "      border-color: transparent;\n",
              "      border-left-color: var(--fill-color);\n",
              "      border-top-color: var(--fill-color);\n",
              "      border-right-color: var(--fill-color);\n",
              "    }\n",
              "    40% {\n",
              "      border-color: transparent;\n",
              "      border-right-color: var(--fill-color);\n",
              "      border-top-color: var(--fill-color);\n",
              "    }\n",
              "    60% {\n",
              "      border-color: transparent;\n",
              "      border-right-color: var(--fill-color);\n",
              "    }\n",
              "    80% {\n",
              "      border-color: transparent;\n",
              "      border-right-color: var(--fill-color);\n",
              "      border-bottom-color: var(--fill-color);\n",
              "    }\n",
              "    90% {\n",
              "      border-color: transparent;\n",
              "      border-bottom-color: var(--fill-color);\n",
              "    }\n",
              "  }\n",
              "</style>\n",
              "\n",
              "      <script>\n",
              "        async function quickchart(key) {\n",
              "          const quickchartButtonEl =\n",
              "            document.querySelector('#' + key + ' button');\n",
              "          quickchartButtonEl.disabled = true;  // To prevent multiple clicks.\n",
              "          quickchartButtonEl.classList.add('colab-df-spinner');\n",
              "          try {\n",
              "            const charts = await google.colab.kernel.invokeFunction(\n",
              "                'suggestCharts', [key], {});\n",
              "          } catch (error) {\n",
              "            console.error('Error during call to suggestCharts:', error);\n",
              "          }\n",
              "          quickchartButtonEl.classList.remove('colab-df-spinner');\n",
              "          quickchartButtonEl.classList.add('colab-df-quickchart-complete');\n",
              "        }\n",
              "        (() => {\n",
              "          let quickchartButtonEl =\n",
              "            document.querySelector('#df-57364442-2263-4e14-97c3-3587c65f1168 button');\n",
              "          quickchartButtonEl.style.display =\n",
              "            google.colab.kernel.accessAllowed ? 'block' : 'none';\n",
              "        })();\n",
              "      </script>\n",
              "    </div>\n",
              "\n",
              "    </div>\n",
              "  </div>\n"
            ],
            "application/vnd.google.colaboratory.intrinsic+json": {
              "type": "dataframe",
              "variable_name": "dataset",
              "summary": "{\n  \"name\": \"dataset\",\n  \"rows\": 7672,\n  \"fields\": [\n    {\n      \"column\": \"temperature\",\n      \"properties\": {\n        \"dtype\": \"number\",\n        \"std\": 16.20005890567919,\n        \"min\": 10.269384763629008,\n        \"max\": 149.6904197890206,\n        \"num_unique_values\": 7672,\n        \"samples\": [\n          119.5577318148199,\n          80.36632351025234,\n          65.34194430881837\n        ],\n        \"semantic_type\": \"\",\n        \"description\": \"\"\n      }\n    },\n    {\n      \"column\": \"pressure\",\n      \"properties\": {\n        \"dtype\": \"number\",\n        \"std\": 10.38159306937825,\n        \"min\": 3.620797987053262,\n        \"max\": 79.88773351925018,\n        \"num_unique_values\": 7672,\n        \"samples\": [\n          59.41752219251303,\n          42.13266974862777,\n          20.264647368547656\n        ],\n        \"semantic_type\": \"\",\n        \"description\": \"\"\n      }\n    },\n    {\n      \"column\": \"vibration\",\n      \"properties\": {\n        \"dtype\": \"number\",\n        \"std\": 0.7285601038822845,\n        \"min\": -0.4281876646202984,\n        \"max\": 4.990537369353191,\n        \"num_unique_values\": 7672,\n        \"samples\": [\n          1.6856008548492745,\n          3.893742832495525,\n          1.093014102054744\n        ],\n        \"semantic_type\": \"\",\n        \"description\": \"\"\n      }\n    },\n    {\n      \"column\": \"humidity\",\n      \"properties\": {\n        \"dtype\": \"number\",\n        \"std\": 11.841478762776916,\n        \"min\": 10.215076711940103,\n        \"max\": 89.98471787562592,\n        \"num_unique_values\": 7672,\n        \"samples\": [\n          62.00676891585247,\n          27.16241830980172,\n          70.91665435270079\n        ],\n        \"semantic_type\": \"\",\n        \"description\": \"\"\n      }\n    },\n    {\n      \"column\": \"faulty\",\n      \"properties\": {\n        \"dtype\": \"number\",\n        \"std\": 0.2999847896866024,\n        \"min\": 0.0,\n        \"max\": 1.0,\n        \"num_unique_values\": 2,\n        \"samples\": [\n          1.0,\n          0.0\n        ],\n        \"semantic_type\": \"\",\n        \"description\": \"\"\n      }\n    }\n  ]\n}"
            }
          },
          "metadata": {},
          "execution_count": 3
        }
      ],
      "source": [
        "# Show some rows of the dataset\n",
        "dataset.head()"
      ]
    },
    {
      "cell_type": "markdown",
      "id": "f34fdf31",
      "metadata": {
        "id": "f34fdf31"
      },
      "source": [
        "#### Segregate dataset for trainning and testing holdout and <br>choose cross validation parameters"
      ]
    },
    {
      "cell_type": "code",
      "execution_count": 4,
      "id": "84645afe",
      "metadata": {
        "id": "84645afe"
      },
      "outputs": [],
      "source": [
        "test_size = 0.30 # tamanho do conjunto de teste\n",
        "seed = 8 # random seed\n",
        "\n",
        "# Separation of trainning and testing dataset\n",
        "array = dataset.values\n",
        "X = array[:,0:-1]\n",
        "y = array[:,-1]\n",
        "X_train, X_test, y_train, y_test = train_test_split(X, y,\n",
        "    test_size=test_size, shuffle=True, random_state=seed, stratify=y) # holdout with stratification\n",
        "\n",
        "# Cross validation parameters\n",
        "scoring = 'accuracy'\n",
        "num_folds = 10\n",
        "kfold = StratifiedKFold(n_splits=num_folds, shuffle=True, random_state=seed) # cross validation with stratification"
      ]
    },
    {
      "cell_type": "markdown",
      "id": "77585141",
      "metadata": {
        "id": "77585141"
      },
      "source": [
        "### <b><i> Model and Inference </b></i>\n",
        "\n",
        "#### Creation and validation of models: baseline"
      ]
    },
    {
      "cell_type": "code",
      "execution_count": 5,
      "id": "bc2f1bd2",
      "metadata": {
        "id": "bc2f1bd2",
        "outputId": "36dc5017-7dee-4bdf-f620-bc807a13ff72",
        "colab": {
          "base_uri": "https://localhost:8080/"
        }
      },
      "outputs": [
        {
          "output_type": "stream",
          "name": "stdout",
          "text": [
            "KNN: 0.97020 (0.00601)\n",
            "CART: 0.96797 (0.00715)\n",
            "NB: 0.98566 (0.00540)\n",
            "SVM: 0.97374 (0.00609)\n"
          ]
        }
      ],
      "source": [
        "# global seed\n",
        "np.random.seed(8)\n",
        "\n",
        "# List to append models\n",
        "models = []\n",
        "\n",
        "# Creating models and append to the models list\n",
        "models.append(('KNN', KNeighborsClassifier()))\n",
        "models.append(('CART', DecisionTreeClassifier()))\n",
        "models.append(('NB', GaussianNB()))\n",
        "models.append(('SVM', SVC()))\n",
        "\n",
        "# Lists to append the results\n",
        "results = []\n",
        "names = []\n",
        "\n",
        "# Models evaluation\n",
        "for name, model in models:\n",
        "    cv_results = cross_val_score(model, X_train, y_train, cv=kfold, scoring=scoring)\n",
        "    results.append(cv_results)\n",
        "    names.append(name)\n",
        "    msg = f\"{name}: {cv_results.mean():.5f} ({cv_results.std():.5f})\"\n",
        "    print(msg)"
      ]
    },
    {
      "cell_type": "code",
      "execution_count": 6,
      "id": "2ba5ce4c",
      "metadata": {
        "id": "2ba5ce4c",
        "outputId": "42e17112-51c1-4bda-b46c-75f21af80d07",
        "colab": {
          "base_uri": "https://localhost:8080/",
          "height": 417
        }
      },
      "outputs": [
        {
          "output_type": "display_data",
          "data": {
            "text/html": [
              "<html>\n",
              "<head><meta charset=\"utf-8\" /></head>\n",
              "<body>\n",
              "    <div>            <script src=\"https://cdnjs.cloudflare.com/ajax/libs/mathjax/2.7.5/MathJax.js?config=TeX-AMS-MML_SVG\"></script><script type=\"text/javascript\">if (window.MathJax && window.MathJax.Hub && window.MathJax.Hub.Config) {window.MathJax.Hub.Config({SVG: {font: \"STIX-Web\"}});}</script>                <script type=\"text/javascript\">window.PlotlyConfig = {MathJaxConfig: 'local'};</script>\n",
              "        <script charset=\"utf-8\" src=\"https://cdn.plot.ly/plotly-2.35.2.min.js\"></script>                <div id=\"bafd4de6-2d6c-48b6-921a-7fe645cad9bd\" class=\"plotly-graph-div\" style=\"height:400px; width:550px;\"></div>            <script type=\"text/javascript\">                                    window.PLOTLYENV=window.PLOTLYENV || {};                                    if (document.getElementById(\"bafd4de6-2d6c-48b6-921a-7fe645cad9bd\")) {                    Plotly.newPlot(                        \"bafd4de6-2d6c-48b6-921a-7fe645cad9bd\",                        [{\"alignmentgroup\":\"True\",\"hovertemplate\":\"Estimator=%{x}\\u003cbr\\u003eCross validation score=%{y}\\u003cextra\\u003e\\u003c\\u002fextra\\u003e\",\"legendgroup\":\"\",\"marker\":{\"color\":\"#636efa\"},\"name\":\"\",\"notched\":false,\"offsetgroup\":\"\",\"orientation\":\"v\",\"showlegend\":false,\"x\":[\"KNN\",\"KNN\",\"KNN\",\"KNN\",\"KNN\",\"KNN\",\"KNN\",\"KNN\",\"KNN\",\"KNN\",\"CART\",\"CART\",\"CART\",\"CART\",\"CART\",\"CART\",\"CART\",\"CART\",\"CART\",\"CART\",\"NB\",\"NB\",\"NB\",\"NB\",\"NB\",\"NB\",\"NB\",\"NB\",\"NB\",\"NB\",\"SVM\",\"SVM\",\"SVM\",\"SVM\",\"SVM\",\"SVM\",\"SVM\",\"SVM\",\"SVM\",\"SVM\"],\"x0\":\" \",\"xaxis\":\"x\",\"y\":[0.9795158286778398,0.9720670391061452,0.9702048417132216,0.9776536312849162,0.9683426443202979,0.9720670391061452,0.9720670391061452,0.957169459962756,0.9646182495344506,0.9683426443202979,0.9757914338919925,0.9646182495344506,0.9702048417132216,0.9739292364990689,0.9664804469273743,0.9757914338919925,0.9608938547486033,0.9515828677839852,0.9683426443202979,0.9720670391061452,0.9906890130353817,0.9869646182495344,0.9869646182495344,0.9925512104283054,0.9869646182495344,0.9888268156424581,0.9851024208566108,0.9720670391061452,0.9813780260707635,0.9851024208566108,0.9832402234636871,0.9757914338919925,0.9683426443202979,0.9832402234636871,0.9720670391061452,0.9757914338919925,0.9776536312849162,0.9683426443202979,0.9664804469273743,0.9664804469273743],\"y0\":\" \",\"yaxis\":\"y\",\"type\":\"box\"}],                        {\"template\":{\"data\":{\"histogram2dcontour\":[{\"type\":\"histogram2dcontour\",\"colorbar\":{\"outlinewidth\":0,\"ticks\":\"\"},\"colorscale\":[[0.0,\"#0d0887\"],[0.1111111111111111,\"#46039f\"],[0.2222222222222222,\"#7201a8\"],[0.3333333333333333,\"#9c179e\"],[0.4444444444444444,\"#bd3786\"],[0.5555555555555556,\"#d8576b\"],[0.6666666666666666,\"#ed7953\"],[0.7777777777777778,\"#fb9f3a\"],[0.8888888888888888,\"#fdca26\"],[1.0,\"#f0f921\"]]}],\"choropleth\":[{\"type\":\"choropleth\",\"colorbar\":{\"outlinewidth\":0,\"ticks\":\"\"}}],\"histogram2d\":[{\"type\":\"histogram2d\",\"colorbar\":{\"outlinewidth\":0,\"ticks\":\"\"},\"colorscale\":[[0.0,\"#0d0887\"],[0.1111111111111111,\"#46039f\"],[0.2222222222222222,\"#7201a8\"],[0.3333333333333333,\"#9c179e\"],[0.4444444444444444,\"#bd3786\"],[0.5555555555555556,\"#d8576b\"],[0.6666666666666666,\"#ed7953\"],[0.7777777777777778,\"#fb9f3a\"],[0.8888888888888888,\"#fdca26\"],[1.0,\"#f0f921\"]]}],\"heatmap\":[{\"type\":\"heatmap\",\"colorbar\":{\"outlinewidth\":0,\"ticks\":\"\"},\"colorscale\":[[0.0,\"#0d0887\"],[0.1111111111111111,\"#46039f\"],[0.2222222222222222,\"#7201a8\"],[0.3333333333333333,\"#9c179e\"],[0.4444444444444444,\"#bd3786\"],[0.5555555555555556,\"#d8576b\"],[0.6666666666666666,\"#ed7953\"],[0.7777777777777778,\"#fb9f3a\"],[0.8888888888888888,\"#fdca26\"],[1.0,\"#f0f921\"]]}],\"heatmapgl\":[{\"type\":\"heatmapgl\",\"colorbar\":{\"outlinewidth\":0,\"ticks\":\"\"},\"colorscale\":[[0.0,\"#0d0887\"],[0.1111111111111111,\"#46039f\"],[0.2222222222222222,\"#7201a8\"],[0.3333333333333333,\"#9c179e\"],[0.4444444444444444,\"#bd3786\"],[0.5555555555555556,\"#d8576b\"],[0.6666666666666666,\"#ed7953\"],[0.7777777777777778,\"#fb9f3a\"],[0.8888888888888888,\"#fdca26\"],[1.0,\"#f0f921\"]]}],\"contourcarpet\":[{\"type\":\"contourcarpet\",\"colorbar\":{\"outlinewidth\":0,\"ticks\":\"\"}}],\"contour\":[{\"type\":\"contour\",\"colorbar\":{\"outlinewidth\":0,\"ticks\":\"\"},\"colorscale\":[[0.0,\"#0d0887\"],[0.1111111111111111,\"#46039f\"],[0.2222222222222222,\"#7201a8\"],[0.3333333333333333,\"#9c179e\"],[0.4444444444444444,\"#bd3786\"],[0.5555555555555556,\"#d8576b\"],[0.6666666666666666,\"#ed7953\"],[0.7777777777777778,\"#fb9f3a\"],[0.8888888888888888,\"#fdca26\"],[1.0,\"#f0f921\"]]}],\"surface\":[{\"type\":\"surface\",\"colorbar\":{\"outlinewidth\":0,\"ticks\":\"\"},\"colorscale\":[[0.0,\"#0d0887\"],[0.1111111111111111,\"#46039f\"],[0.2222222222222222,\"#7201a8\"],[0.3333333333333333,\"#9c179e\"],[0.4444444444444444,\"#bd3786\"],[0.5555555555555556,\"#d8576b\"],[0.6666666666666666,\"#ed7953\"],[0.7777777777777778,\"#fb9f3a\"],[0.8888888888888888,\"#fdca26\"],[1.0,\"#f0f921\"]]}],\"mesh3d\":[{\"type\":\"mesh3d\",\"colorbar\":{\"outlinewidth\":0,\"ticks\":\"\"}}],\"scatter\":[{\"fillpattern\":{\"fillmode\":\"overlay\",\"size\":10,\"solidity\":0.2},\"type\":\"scatter\"}],\"parcoords\":[{\"type\":\"parcoords\",\"line\":{\"colorbar\":{\"outlinewidth\":0,\"ticks\":\"\"}}}],\"scatterpolargl\":[{\"type\":\"scatterpolargl\",\"marker\":{\"colorbar\":{\"outlinewidth\":0,\"ticks\":\"\"}}}],\"bar\":[{\"error_x\":{\"color\":\"#2a3f5f\"},\"error_y\":{\"color\":\"#2a3f5f\"},\"marker\":{\"line\":{\"color\":\"#E5ECF6\",\"width\":0.5},\"pattern\":{\"fillmode\":\"overlay\",\"size\":10,\"solidity\":0.2}},\"type\":\"bar\"}],\"scattergeo\":[{\"type\":\"scattergeo\",\"marker\":{\"colorbar\":{\"outlinewidth\":0,\"ticks\":\"\"}}}],\"scatterpolar\":[{\"type\":\"scatterpolar\",\"marker\":{\"colorbar\":{\"outlinewidth\":0,\"ticks\":\"\"}}}],\"histogram\":[{\"marker\":{\"pattern\":{\"fillmode\":\"overlay\",\"size\":10,\"solidity\":0.2}},\"type\":\"histogram\"}],\"scattergl\":[{\"type\":\"scattergl\",\"marker\":{\"colorbar\":{\"outlinewidth\":0,\"ticks\":\"\"}}}],\"scatter3d\":[{\"type\":\"scatter3d\",\"line\":{\"colorbar\":{\"outlinewidth\":0,\"ticks\":\"\"}},\"marker\":{\"colorbar\":{\"outlinewidth\":0,\"ticks\":\"\"}}}],\"scattermapbox\":[{\"type\":\"scattermapbox\",\"marker\":{\"colorbar\":{\"outlinewidth\":0,\"ticks\":\"\"}}}],\"scatterternary\":[{\"type\":\"scatterternary\",\"marker\":{\"colorbar\":{\"outlinewidth\":0,\"ticks\":\"\"}}}],\"scattercarpet\":[{\"type\":\"scattercarpet\",\"marker\":{\"colorbar\":{\"outlinewidth\":0,\"ticks\":\"\"}}}],\"carpet\":[{\"aaxis\":{\"endlinecolor\":\"#2a3f5f\",\"gridcolor\":\"white\",\"linecolor\":\"white\",\"minorgridcolor\":\"white\",\"startlinecolor\":\"#2a3f5f\"},\"baxis\":{\"endlinecolor\":\"#2a3f5f\",\"gridcolor\":\"white\",\"linecolor\":\"white\",\"minorgridcolor\":\"white\",\"startlinecolor\":\"#2a3f5f\"},\"type\":\"carpet\"}],\"table\":[{\"cells\":{\"fill\":{\"color\":\"#EBF0F8\"},\"line\":{\"color\":\"white\"}},\"header\":{\"fill\":{\"color\":\"#C8D4E3\"},\"line\":{\"color\":\"white\"}},\"type\":\"table\"}],\"barpolar\":[{\"marker\":{\"line\":{\"color\":\"#E5ECF6\",\"width\":0.5},\"pattern\":{\"fillmode\":\"overlay\",\"size\":10,\"solidity\":0.2}},\"type\":\"barpolar\"}],\"pie\":[{\"automargin\":true,\"type\":\"pie\"}]},\"layout\":{\"autotypenumbers\":\"strict\",\"colorway\":[\"#636efa\",\"#EF553B\",\"#00cc96\",\"#ab63fa\",\"#FFA15A\",\"#19d3f3\",\"#FF6692\",\"#B6E880\",\"#FF97FF\",\"#FECB52\"],\"font\":{\"color\":\"#2a3f5f\"},\"hovermode\":\"closest\",\"hoverlabel\":{\"align\":\"left\"},\"paper_bgcolor\":\"white\",\"plot_bgcolor\":\"#E5ECF6\",\"polar\":{\"bgcolor\":\"#E5ECF6\",\"angularaxis\":{\"gridcolor\":\"white\",\"linecolor\":\"white\",\"ticks\":\"\"},\"radialaxis\":{\"gridcolor\":\"white\",\"linecolor\":\"white\",\"ticks\":\"\"}},\"ternary\":{\"bgcolor\":\"#E5ECF6\",\"aaxis\":{\"gridcolor\":\"white\",\"linecolor\":\"white\",\"ticks\":\"\"},\"baxis\":{\"gridcolor\":\"white\",\"linecolor\":\"white\",\"ticks\":\"\"},\"caxis\":{\"gridcolor\":\"white\",\"linecolor\":\"white\",\"ticks\":\"\"}},\"coloraxis\":{\"colorbar\":{\"outlinewidth\":0,\"ticks\":\"\"}},\"colorscale\":{\"sequential\":[[0.0,\"#0d0887\"],[0.1111111111111111,\"#46039f\"],[0.2222222222222222,\"#7201a8\"],[0.3333333333333333,\"#9c179e\"],[0.4444444444444444,\"#bd3786\"],[0.5555555555555556,\"#d8576b\"],[0.6666666666666666,\"#ed7953\"],[0.7777777777777778,\"#fb9f3a\"],[0.8888888888888888,\"#fdca26\"],[1.0,\"#f0f921\"]],\"sequentialminus\":[[0.0,\"#0d0887\"],[0.1111111111111111,\"#46039f\"],[0.2222222222222222,\"#7201a8\"],[0.3333333333333333,\"#9c179e\"],[0.4444444444444444,\"#bd3786\"],[0.5555555555555556,\"#d8576b\"],[0.6666666666666666,\"#ed7953\"],[0.7777777777777778,\"#fb9f3a\"],[0.8888888888888888,\"#fdca26\"],[1.0,\"#f0f921\"]],\"diverging\":[[0,\"#8e0152\"],[0.1,\"#c51b7d\"],[0.2,\"#de77ae\"],[0.3,\"#f1b6da\"],[0.4,\"#fde0ef\"],[0.5,\"#f7f7f7\"],[0.6,\"#e6f5d0\"],[0.7,\"#b8e186\"],[0.8,\"#7fbc41\"],[0.9,\"#4d9221\"],[1,\"#276419\"]]},\"xaxis\":{\"gridcolor\":\"white\",\"linecolor\":\"white\",\"ticks\":\"\",\"title\":{\"standoff\":15},\"zerolinecolor\":\"white\",\"automargin\":true,\"zerolinewidth\":2},\"yaxis\":{\"gridcolor\":\"white\",\"linecolor\":\"white\",\"ticks\":\"\",\"title\":{\"standoff\":15},\"zerolinecolor\":\"white\",\"automargin\":true,\"zerolinewidth\":2},\"scene\":{\"xaxis\":{\"backgroundcolor\":\"#E5ECF6\",\"gridcolor\":\"white\",\"linecolor\":\"white\",\"showbackground\":true,\"ticks\":\"\",\"zerolinecolor\":\"white\",\"gridwidth\":2},\"yaxis\":{\"backgroundcolor\":\"#E5ECF6\",\"gridcolor\":\"white\",\"linecolor\":\"white\",\"showbackground\":true,\"ticks\":\"\",\"zerolinecolor\":\"white\",\"gridwidth\":2},\"zaxis\":{\"backgroundcolor\":\"#E5ECF6\",\"gridcolor\":\"white\",\"linecolor\":\"white\",\"showbackground\":true,\"ticks\":\"\",\"zerolinecolor\":\"white\",\"gridwidth\":2}},\"shapedefaults\":{\"line\":{\"color\":\"#2a3f5f\"}},\"annotationdefaults\":{\"arrowcolor\":\"#2a3f5f\",\"arrowhead\":0,\"arrowwidth\":1},\"geo\":{\"bgcolor\":\"white\",\"landcolor\":\"#E5ECF6\",\"subunitcolor\":\"white\",\"showland\":true,\"showlakes\":true,\"lakecolor\":\"white\"},\"title\":{\"x\":0.05},\"mapbox\":{\"style\":\"light\"}}},\"xaxis\":{\"anchor\":\"y\",\"domain\":[0.0,1.0],\"title\":{\"text\":\"Estimator\"}},\"yaxis\":{\"anchor\":\"x\",\"domain\":[0.0,1.0],\"title\":{\"text\":\"Cross validation score\"}},\"legend\":{\"tracegroupgap\":0},\"title\":{\"text\":\"Model Comparison\"},\"boxmode\":\"group\",\"width\":550,\"height\":400},                        {\"responsive\": true}                    ).then(function(){\n",
              "                            \n",
              "var gd = document.getElementById('bafd4de6-2d6c-48b6-921a-7fe645cad9bd');\n",
              "var x = new MutationObserver(function (mutations, observer) {{\n",
              "        var display = window.getComputedStyle(gd).display;\n",
              "        if (!display || display === 'none') {{\n",
              "            console.log([gd, 'removed!']);\n",
              "            Plotly.purge(gd);\n",
              "            observer.disconnect();\n",
              "        }}\n",
              "}});\n",
              "\n",
              "// Listen for the removal of the full notebook cells\n",
              "var notebookContainer = gd.closest('#notebook-container');\n",
              "if (notebookContainer) {{\n",
              "    x.observe(notebookContainer, {childList: true});\n",
              "}}\n",
              "\n",
              "// Listen for the clearing of the current output cell\n",
              "var outputEl = gd.closest('.output');\n",
              "if (outputEl) {{\n",
              "    x.observe(outputEl, {childList: true});\n",
              "}}\n",
              "\n",
              "                        })                };                            </script>        </div>\n",
              "</body>\n",
              "</html>"
            ]
          },
          "metadata": {}
        }
      ],
      "source": [
        "# Boxplot to compare the models\n",
        "\n",
        "dict_models = {name: result for name, result in zip([name[0] for name in models],results)}\n",
        "df_models = pd.DataFrame(dict_models)\n",
        "df_models = df_models.melt(var_name = 'Estimator',\n",
        "               value_name='Cross validation score')\n",
        "\n",
        "fig = px.box(df_models,x='Estimator',\n",
        "             y='Cross validation score', title='Model Comparison')\n",
        "fig.update_layout(width=550, height = 400)\n",
        "fig.update_layout()"
      ]
    },
    {
      "cell_type": "markdown",
      "id": "82868381",
      "metadata": {
        "id": "82868381"
      },
      "source": [
        "<blockquote> Comment: Between the methods that have been chosen, in a first glance,\n",
        "Naive Bayes has the higher average cross validation accuracy and the lower standard deviation </blockquote>"
      ]
    },
    {
      "cell_type": "markdown",
      "id": "d146bcd8",
      "metadata": {
        "id": "d146bcd8"
      },
      "source": [
        "#### Model creation and evaluation: standardized and normalized data"
      ]
    },
    {
      "cell_type": "code",
      "execution_count": 7,
      "id": "ba459c8c",
      "metadata": {
        "id": "ba459c8c",
        "outputId": "28aca9f3-415c-44e5-82bb-6bb0d8ea3ca9",
        "colab": {
          "base_uri": "https://localhost:8080/"
        }
      },
      "outputs": [
        {
          "output_type": "stream",
          "name": "stdout",
          "text": [
            "KNN-orig: 0.9702(0.0060)\n",
            "CART-orig: 0.9680(0.0072)\n",
            "NB-orig: 0.9857(0.0054)\n",
            "SVM-orig: 0.9737(0.0061)\n",
            "KNN-std: 0.9793(0.0055)\n",
            "CART-std: 0.9680(0.0070)\n",
            "NB-std: 0.9857(0.0054)\n",
            "SVM-std: 0.9847(0.0056)\n",
            "KNN-norm: 0.9786(0.0057)\n",
            "CART-norm: 0.9678(0.0070)\n",
            "NB-norm: 0.9857(0.0054)\n",
            "SVM-norm: 0.9851(0.0053)\n"
          ]
        }
      ],
      "source": [
        "# Definition of a global seed\n",
        "np.random.seed(8)\n",
        "\n",
        "# # list to store machine learning pipelines and their evaluation results across all dataset configurations for comparative analysis\n",
        "pipelines = []\n",
        "results = []\n",
        "names = []\n",
        "\n",
        "\n",
        "# Creating pipeline elements\n",
        "\n",
        "# Classifier algorithms\n",
        "knn = ('KNN', KNeighborsClassifier())\n",
        "cart = ('CART', DecisionTreeClassifier())\n",
        "naive_bayes = ('NB', GaussianNB())\n",
        "svm = ('SVM', SVC())\n",
        "\n",
        "# Standardization and Normalization preprocessing\n",
        "standard_scaler = ('StandardScaler', StandardScaler())\n",
        "min_max_scaler = ('MinMaxScaler', MinMaxScaler())\n",
        "\n",
        "\n",
        "# Pipeline definitions\n",
        "\n",
        "# Original dataset\n",
        "pipelines.append(('KNN-orig', Pipeline([knn])))\n",
        "pipelines.append(('CART-orig', Pipeline([cart])))\n",
        "pipelines.append(('NB-orig', Pipeline([naive_bayes])))\n",
        "pipelines.append(('SVM-orig', Pipeline([svm])))\n",
        "\n",
        "# Standardized dataset\n",
        "pipelines.append(('KNN-std', Pipeline([standard_scaler, knn])))\n",
        "pipelines.append(('CART-std', Pipeline([standard_scaler, cart])))\n",
        "pipelines.append(('NB-std', Pipeline([standard_scaler, naive_bayes])))\n",
        "pipelines.append(('SVM-std', Pipeline([standard_scaler, svm])))\n",
        "\n",
        "# Normalized dataset\n",
        "pipelines.append(('KNN-norm', Pipeline([min_max_scaler, knn])))\n",
        "pipelines.append(('CART-norm', Pipeline([min_max_scaler, cart])))\n",
        "pipelines.append(('NB-norm', Pipeline([min_max_scaler, naive_bayes])))\n",
        "pipelines.append(('SVM-norm', Pipeline([min_max_scaler, svm])))\n",
        "\n",
        "# Pipelines execution\n",
        "for name, model in pipelines:\n",
        "    cv_results = cross_val_score(model, X_train, y_train, cv=kfold, scoring=scoring)\n",
        "    results.append(cv_results)\n",
        "    names.append(name)\n",
        "    msg = f\"{name}: {cv_results.mean():.4f}({cv_results.std():.4f})\"\n",
        "    print(msg)"
      ]
    },
    {
      "cell_type": "code",
      "execution_count": 8,
      "id": "113656f3",
      "metadata": {
        "id": "113656f3",
        "outputId": "8ec2de7a-1bba-493e-cb9f-35286e79b227",
        "colab": {
          "base_uri": "https://localhost:8080/",
          "height": 417
        }
      },
      "outputs": [
        {
          "output_type": "display_data",
          "data": {
            "text/html": [
              "<html>\n",
              "<head><meta charset=\"utf-8\" /></head>\n",
              "<body>\n",
              "    <div>            <script src=\"https://cdnjs.cloudflare.com/ajax/libs/mathjax/2.7.5/MathJax.js?config=TeX-AMS-MML_SVG\"></script><script type=\"text/javascript\">if (window.MathJax && window.MathJax.Hub && window.MathJax.Hub.Config) {window.MathJax.Hub.Config({SVG: {font: \"STIX-Web\"}});}</script>                <script type=\"text/javascript\">window.PlotlyConfig = {MathJaxConfig: 'local'};</script>\n",
              "        <script charset=\"utf-8\" src=\"https://cdn.plot.ly/plotly-2.35.2.min.js\"></script>                <div id=\"2a0098a5-86fe-44d6-8f08-58558e7e35c0\" class=\"plotly-graph-div\" style=\"height:400px; width:800px;\"></div>            <script type=\"text/javascript\">                                    window.PLOTLYENV=window.PLOTLYENV || {};                                    if (document.getElementById(\"2a0098a5-86fe-44d6-8f08-58558e7e35c0\")) {                    Plotly.newPlot(                        \"2a0098a5-86fe-44d6-8f08-58558e7e35c0\",                        [{\"alignmentgroup\":\"True\",\"hovertemplate\":\"Estimator=%{x}\\u003cbr\\u003eCross validation score=%{y}\\u003cextra\\u003e\\u003c\\u002fextra\\u003e\",\"legendgroup\":\"\",\"marker\":{\"color\":\"#636efa\"},\"name\":\"\",\"notched\":false,\"offsetgroup\":\"\",\"orientation\":\"v\",\"showlegend\":false,\"x\":[\"KNN-orig\",\"KNN-orig\",\"KNN-orig\",\"KNN-orig\",\"KNN-orig\",\"KNN-orig\",\"KNN-orig\",\"KNN-orig\",\"KNN-orig\",\"KNN-orig\",\"CART-orig\",\"CART-orig\",\"CART-orig\",\"CART-orig\",\"CART-orig\",\"CART-orig\",\"CART-orig\",\"CART-orig\",\"CART-orig\",\"CART-orig\",\"NB-orig\",\"NB-orig\",\"NB-orig\",\"NB-orig\",\"NB-orig\",\"NB-orig\",\"NB-orig\",\"NB-orig\",\"NB-orig\",\"NB-orig\",\"SVM-orig\",\"SVM-orig\",\"SVM-orig\",\"SVM-orig\",\"SVM-orig\",\"SVM-orig\",\"SVM-orig\",\"SVM-orig\",\"SVM-orig\",\"SVM-orig\",\"KNN-std\",\"KNN-std\",\"KNN-std\",\"KNN-std\",\"KNN-std\",\"KNN-std\",\"KNN-std\",\"KNN-std\",\"KNN-std\",\"KNN-std\",\"CART-std\",\"CART-std\",\"CART-std\",\"CART-std\",\"CART-std\",\"CART-std\",\"CART-std\",\"CART-std\",\"CART-std\",\"CART-std\",\"NB-std\",\"NB-std\",\"NB-std\",\"NB-std\",\"NB-std\",\"NB-std\",\"NB-std\",\"NB-std\",\"NB-std\",\"NB-std\",\"SVM-std\",\"SVM-std\",\"SVM-std\",\"SVM-std\",\"SVM-std\",\"SVM-std\",\"SVM-std\",\"SVM-std\",\"SVM-std\",\"SVM-std\",\"KNN-norm\",\"KNN-norm\",\"KNN-norm\",\"KNN-norm\",\"KNN-norm\",\"KNN-norm\",\"KNN-norm\",\"KNN-norm\",\"KNN-norm\",\"KNN-norm\",\"CART-norm\",\"CART-norm\",\"CART-norm\",\"CART-norm\",\"CART-norm\",\"CART-norm\",\"CART-norm\",\"CART-norm\",\"CART-norm\",\"CART-norm\",\"NB-norm\",\"NB-norm\",\"NB-norm\",\"NB-norm\",\"NB-norm\",\"NB-norm\",\"NB-norm\",\"NB-norm\",\"NB-norm\",\"NB-norm\",\"SVM-norm\",\"SVM-norm\",\"SVM-norm\",\"SVM-norm\",\"SVM-norm\",\"SVM-norm\",\"SVM-norm\",\"SVM-norm\",\"SVM-norm\",\"SVM-norm\"],\"x0\":\" \",\"xaxis\":\"x\",\"y\":[0.9795158286778398,0.9720670391061452,0.9702048417132216,0.9776536312849162,0.9683426443202979,0.9720670391061452,0.9720670391061452,0.957169459962756,0.9646182495344506,0.9683426443202979,0.9757914338919925,0.9646182495344506,0.9702048417132216,0.9739292364990689,0.9664804469273743,0.9757914338919925,0.9608938547486033,0.9515828677839852,0.9683426443202979,0.9720670391061452,0.9906890130353817,0.9869646182495344,0.9869646182495344,0.9925512104283054,0.9869646182495344,0.9888268156424581,0.9851024208566108,0.9720670391061452,0.9813780260707635,0.9851024208566108,0.9832402234636871,0.9757914338919925,0.9683426443202979,0.9832402234636871,0.9720670391061452,0.9757914338919925,0.9776536312849162,0.9683426443202979,0.9664804469273743,0.9664804469273743,0.9832402234636871,0.9813780260707635,0.9851024208566108,0.9851024208566108,0.9702048417132216,0.9813780260707635,0.9795158286778398,0.9683426443202979,0.9776536312849162,0.9813780260707635,0.9795158286778398,0.9664804469273743,0.9702048417132216,0.9720670391061452,0.9683426443202979,0.9757914338919925,0.9608938547486033,0.9534450651769087,0.9646182495344506,0.9683426443202979,0.9906890130353817,0.9869646182495344,0.9869646182495344,0.9925512104283054,0.9869646182495344,0.9888268156424581,0.9851024208566108,0.9720670391061452,0.9813780260707635,0.9851024208566108,0.9906890130353817,0.9851024208566108,0.9869646182495344,0.9925512104283054,0.9813780260707635,0.9869646182495344,0.9869646182495344,0.9720670391061452,0.9795158286778398,0.9851024208566108,0.9832402234636871,0.9795158286778398,0.9851024208566108,0.9832402234636871,0.9739292364990689,0.9795158286778398,0.9795158286778398,0.9646182495344506,0.9757914338919925,0.9813780260707635,0.9776536312849162,0.9646182495344506,0.9683426443202979,0.9757914338919925,0.9664804469273743,0.9739292364990689,0.9646182495344506,0.9534450651769087,0.9608938547486033,0.9720670391061452,0.9906890130353817,0.9869646182495344,0.9869646182495344,0.9925512104283054,0.9869646182495344,0.9888268156424581,0.9851024208566108,0.9720670391061452,0.9813780260707635,0.9851024208566108,0.9906890130353817,0.9851024208566108,0.9869646182495344,0.9925512104283054,0.9832402234636871,0.9869646182495344,0.9869646182495344,0.9720670391061452,0.9813780260707635,0.9851024208566108],\"y0\":\" \",\"yaxis\":\"y\",\"type\":\"box\"}],                        {\"template\":{\"data\":{\"histogram2dcontour\":[{\"type\":\"histogram2dcontour\",\"colorbar\":{\"outlinewidth\":0,\"ticks\":\"\"},\"colorscale\":[[0.0,\"#0d0887\"],[0.1111111111111111,\"#46039f\"],[0.2222222222222222,\"#7201a8\"],[0.3333333333333333,\"#9c179e\"],[0.4444444444444444,\"#bd3786\"],[0.5555555555555556,\"#d8576b\"],[0.6666666666666666,\"#ed7953\"],[0.7777777777777778,\"#fb9f3a\"],[0.8888888888888888,\"#fdca26\"],[1.0,\"#f0f921\"]]}],\"choropleth\":[{\"type\":\"choropleth\",\"colorbar\":{\"outlinewidth\":0,\"ticks\":\"\"}}],\"histogram2d\":[{\"type\":\"histogram2d\",\"colorbar\":{\"outlinewidth\":0,\"ticks\":\"\"},\"colorscale\":[[0.0,\"#0d0887\"],[0.1111111111111111,\"#46039f\"],[0.2222222222222222,\"#7201a8\"],[0.3333333333333333,\"#9c179e\"],[0.4444444444444444,\"#bd3786\"],[0.5555555555555556,\"#d8576b\"],[0.6666666666666666,\"#ed7953\"],[0.7777777777777778,\"#fb9f3a\"],[0.8888888888888888,\"#fdca26\"],[1.0,\"#f0f921\"]]}],\"heatmap\":[{\"type\":\"heatmap\",\"colorbar\":{\"outlinewidth\":0,\"ticks\":\"\"},\"colorscale\":[[0.0,\"#0d0887\"],[0.1111111111111111,\"#46039f\"],[0.2222222222222222,\"#7201a8\"],[0.3333333333333333,\"#9c179e\"],[0.4444444444444444,\"#bd3786\"],[0.5555555555555556,\"#d8576b\"],[0.6666666666666666,\"#ed7953\"],[0.7777777777777778,\"#fb9f3a\"],[0.8888888888888888,\"#fdca26\"],[1.0,\"#f0f921\"]]}],\"heatmapgl\":[{\"type\":\"heatmapgl\",\"colorbar\":{\"outlinewidth\":0,\"ticks\":\"\"},\"colorscale\":[[0.0,\"#0d0887\"],[0.1111111111111111,\"#46039f\"],[0.2222222222222222,\"#7201a8\"],[0.3333333333333333,\"#9c179e\"],[0.4444444444444444,\"#bd3786\"],[0.5555555555555556,\"#d8576b\"],[0.6666666666666666,\"#ed7953\"],[0.7777777777777778,\"#fb9f3a\"],[0.8888888888888888,\"#fdca26\"],[1.0,\"#f0f921\"]]}],\"contourcarpet\":[{\"type\":\"contourcarpet\",\"colorbar\":{\"outlinewidth\":0,\"ticks\":\"\"}}],\"contour\":[{\"type\":\"contour\",\"colorbar\":{\"outlinewidth\":0,\"ticks\":\"\"},\"colorscale\":[[0.0,\"#0d0887\"],[0.1111111111111111,\"#46039f\"],[0.2222222222222222,\"#7201a8\"],[0.3333333333333333,\"#9c179e\"],[0.4444444444444444,\"#bd3786\"],[0.5555555555555556,\"#d8576b\"],[0.6666666666666666,\"#ed7953\"],[0.7777777777777778,\"#fb9f3a\"],[0.8888888888888888,\"#fdca26\"],[1.0,\"#f0f921\"]]}],\"surface\":[{\"type\":\"surface\",\"colorbar\":{\"outlinewidth\":0,\"ticks\":\"\"},\"colorscale\":[[0.0,\"#0d0887\"],[0.1111111111111111,\"#46039f\"],[0.2222222222222222,\"#7201a8\"],[0.3333333333333333,\"#9c179e\"],[0.4444444444444444,\"#bd3786\"],[0.5555555555555556,\"#d8576b\"],[0.6666666666666666,\"#ed7953\"],[0.7777777777777778,\"#fb9f3a\"],[0.8888888888888888,\"#fdca26\"],[1.0,\"#f0f921\"]]}],\"mesh3d\":[{\"type\":\"mesh3d\",\"colorbar\":{\"outlinewidth\":0,\"ticks\":\"\"}}],\"scatter\":[{\"fillpattern\":{\"fillmode\":\"overlay\",\"size\":10,\"solidity\":0.2},\"type\":\"scatter\"}],\"parcoords\":[{\"type\":\"parcoords\",\"line\":{\"colorbar\":{\"outlinewidth\":0,\"ticks\":\"\"}}}],\"scatterpolargl\":[{\"type\":\"scatterpolargl\",\"marker\":{\"colorbar\":{\"outlinewidth\":0,\"ticks\":\"\"}}}],\"bar\":[{\"error_x\":{\"color\":\"#2a3f5f\"},\"error_y\":{\"color\":\"#2a3f5f\"},\"marker\":{\"line\":{\"color\":\"#E5ECF6\",\"width\":0.5},\"pattern\":{\"fillmode\":\"overlay\",\"size\":10,\"solidity\":0.2}},\"type\":\"bar\"}],\"scattergeo\":[{\"type\":\"scattergeo\",\"marker\":{\"colorbar\":{\"outlinewidth\":0,\"ticks\":\"\"}}}],\"scatterpolar\":[{\"type\":\"scatterpolar\",\"marker\":{\"colorbar\":{\"outlinewidth\":0,\"ticks\":\"\"}}}],\"histogram\":[{\"marker\":{\"pattern\":{\"fillmode\":\"overlay\",\"size\":10,\"solidity\":0.2}},\"type\":\"histogram\"}],\"scattergl\":[{\"type\":\"scattergl\",\"marker\":{\"colorbar\":{\"outlinewidth\":0,\"ticks\":\"\"}}}],\"scatter3d\":[{\"type\":\"scatter3d\",\"line\":{\"colorbar\":{\"outlinewidth\":0,\"ticks\":\"\"}},\"marker\":{\"colorbar\":{\"outlinewidth\":0,\"ticks\":\"\"}}}],\"scattermapbox\":[{\"type\":\"scattermapbox\",\"marker\":{\"colorbar\":{\"outlinewidth\":0,\"ticks\":\"\"}}}],\"scatterternary\":[{\"type\":\"scatterternary\",\"marker\":{\"colorbar\":{\"outlinewidth\":0,\"ticks\":\"\"}}}],\"scattercarpet\":[{\"type\":\"scattercarpet\",\"marker\":{\"colorbar\":{\"outlinewidth\":0,\"ticks\":\"\"}}}],\"carpet\":[{\"aaxis\":{\"endlinecolor\":\"#2a3f5f\",\"gridcolor\":\"white\",\"linecolor\":\"white\",\"minorgridcolor\":\"white\",\"startlinecolor\":\"#2a3f5f\"},\"baxis\":{\"endlinecolor\":\"#2a3f5f\",\"gridcolor\":\"white\",\"linecolor\":\"white\",\"minorgridcolor\":\"white\",\"startlinecolor\":\"#2a3f5f\"},\"type\":\"carpet\"}],\"table\":[{\"cells\":{\"fill\":{\"color\":\"#EBF0F8\"},\"line\":{\"color\":\"white\"}},\"header\":{\"fill\":{\"color\":\"#C8D4E3\"},\"line\":{\"color\":\"white\"}},\"type\":\"table\"}],\"barpolar\":[{\"marker\":{\"line\":{\"color\":\"#E5ECF6\",\"width\":0.5},\"pattern\":{\"fillmode\":\"overlay\",\"size\":10,\"solidity\":0.2}},\"type\":\"barpolar\"}],\"pie\":[{\"automargin\":true,\"type\":\"pie\"}]},\"layout\":{\"autotypenumbers\":\"strict\",\"colorway\":[\"#636efa\",\"#EF553B\",\"#00cc96\",\"#ab63fa\",\"#FFA15A\",\"#19d3f3\",\"#FF6692\",\"#B6E880\",\"#FF97FF\",\"#FECB52\"],\"font\":{\"color\":\"#2a3f5f\"},\"hovermode\":\"closest\",\"hoverlabel\":{\"align\":\"left\"},\"paper_bgcolor\":\"white\",\"plot_bgcolor\":\"#E5ECF6\",\"polar\":{\"bgcolor\":\"#E5ECF6\",\"angularaxis\":{\"gridcolor\":\"white\",\"linecolor\":\"white\",\"ticks\":\"\"},\"radialaxis\":{\"gridcolor\":\"white\",\"linecolor\":\"white\",\"ticks\":\"\"}},\"ternary\":{\"bgcolor\":\"#E5ECF6\",\"aaxis\":{\"gridcolor\":\"white\",\"linecolor\":\"white\",\"ticks\":\"\"},\"baxis\":{\"gridcolor\":\"white\",\"linecolor\":\"white\",\"ticks\":\"\"},\"caxis\":{\"gridcolor\":\"white\",\"linecolor\":\"white\",\"ticks\":\"\"}},\"coloraxis\":{\"colorbar\":{\"outlinewidth\":0,\"ticks\":\"\"}},\"colorscale\":{\"sequential\":[[0.0,\"#0d0887\"],[0.1111111111111111,\"#46039f\"],[0.2222222222222222,\"#7201a8\"],[0.3333333333333333,\"#9c179e\"],[0.4444444444444444,\"#bd3786\"],[0.5555555555555556,\"#d8576b\"],[0.6666666666666666,\"#ed7953\"],[0.7777777777777778,\"#fb9f3a\"],[0.8888888888888888,\"#fdca26\"],[1.0,\"#f0f921\"]],\"sequentialminus\":[[0.0,\"#0d0887\"],[0.1111111111111111,\"#46039f\"],[0.2222222222222222,\"#7201a8\"],[0.3333333333333333,\"#9c179e\"],[0.4444444444444444,\"#bd3786\"],[0.5555555555555556,\"#d8576b\"],[0.6666666666666666,\"#ed7953\"],[0.7777777777777778,\"#fb9f3a\"],[0.8888888888888888,\"#fdca26\"],[1.0,\"#f0f921\"]],\"diverging\":[[0,\"#8e0152\"],[0.1,\"#c51b7d\"],[0.2,\"#de77ae\"],[0.3,\"#f1b6da\"],[0.4,\"#fde0ef\"],[0.5,\"#f7f7f7\"],[0.6,\"#e6f5d0\"],[0.7,\"#b8e186\"],[0.8,\"#7fbc41\"],[0.9,\"#4d9221\"],[1,\"#276419\"]]},\"xaxis\":{\"gridcolor\":\"white\",\"linecolor\":\"white\",\"ticks\":\"\",\"title\":{\"standoff\":15},\"zerolinecolor\":\"white\",\"automargin\":true,\"zerolinewidth\":2},\"yaxis\":{\"gridcolor\":\"white\",\"linecolor\":\"white\",\"ticks\":\"\",\"title\":{\"standoff\":15},\"zerolinecolor\":\"white\",\"automargin\":true,\"zerolinewidth\":2},\"scene\":{\"xaxis\":{\"backgroundcolor\":\"#E5ECF6\",\"gridcolor\":\"white\",\"linecolor\":\"white\",\"showbackground\":true,\"ticks\":\"\",\"zerolinecolor\":\"white\",\"gridwidth\":2},\"yaxis\":{\"backgroundcolor\":\"#E5ECF6\",\"gridcolor\":\"white\",\"linecolor\":\"white\",\"showbackground\":true,\"ticks\":\"\",\"zerolinecolor\":\"white\",\"gridwidth\":2},\"zaxis\":{\"backgroundcolor\":\"#E5ECF6\",\"gridcolor\":\"white\",\"linecolor\":\"white\",\"showbackground\":true,\"ticks\":\"\",\"zerolinecolor\":\"white\",\"gridwidth\":2}},\"shapedefaults\":{\"line\":{\"color\":\"#2a3f5f\"}},\"annotationdefaults\":{\"arrowcolor\":\"#2a3f5f\",\"arrowhead\":0,\"arrowwidth\":1},\"geo\":{\"bgcolor\":\"white\",\"landcolor\":\"#E5ECF6\",\"subunitcolor\":\"white\",\"showland\":true,\"showlakes\":true,\"lakecolor\":\"white\"},\"title\":{\"x\":0.05},\"mapbox\":{\"style\":\"light\"}}},\"xaxis\":{\"anchor\":\"y\",\"domain\":[0.0,1.0],\"title\":{\"text\":\"Estimator\"}},\"yaxis\":{\"anchor\":\"x\",\"domain\":[0.0,1.0],\"title\":{\"text\":\"Cross validation score\"}},\"legend\":{\"tracegroupgap\":0},\"title\":{\"text\":\"Model Comparison - Original, Standardized and Normalized dataset\"},\"boxmode\":\"group\",\"width\":800,\"height\":400},                        {\"responsive\": true}                    ).then(function(){\n",
              "                            \n",
              "var gd = document.getElementById('2a0098a5-86fe-44d6-8f08-58558e7e35c0');\n",
              "var x = new MutationObserver(function (mutations, observer) {{\n",
              "        var display = window.getComputedStyle(gd).display;\n",
              "        if (!display || display === 'none') {{\n",
              "            console.log([gd, 'removed!']);\n",
              "            Plotly.purge(gd);\n",
              "            observer.disconnect();\n",
              "        }}\n",
              "}});\n",
              "\n",
              "// Listen for the removal of the full notebook cells\n",
              "var notebookContainer = gd.closest('#notebook-container');\n",
              "if (notebookContainer) {{\n",
              "    x.observe(notebookContainer, {childList: true});\n",
              "}}\n",
              "\n",
              "// Listen for the clearing of the current output cell\n",
              "var outputEl = gd.closest('.output');\n",
              "if (outputEl) {{\n",
              "    x.observe(outputEl, {childList: true});\n",
              "}}\n",
              "\n",
              "                        })                };                            </script>        </div>\n",
              "</body>\n",
              "</html>"
            ]
          },
          "metadata": {}
        }
      ],
      "source": [
        "# Boxplot for model comparison\n",
        "dict_models = {name: result for name, result in zip([model[0] for model in pipelines],results)}\n",
        "df_models = pd.DataFrame(dict_models)\n",
        "df_models = df_models.melt(var_name = 'Estimator', value_name='Cross validation score')\n",
        "\n",
        "fig = px.box(df_models, x=\"Estimator\",y=\"Cross validation score\",\n",
        "             title='Model Comparison - Original, Standardized and Normalized dataset')\n",
        "fig.update_layout(width=800,height=400)\n",
        "fig.show()\n"
      ]
    },
    {
      "cell_type": "markdown",
      "id": "84c1399e",
      "metadata": {
        "id": "84c1399e"
      },
      "source": [
        "<blockquote>After comparison between normalized and standardized to each classifier algorithm chosen\n",
        "(KNN, CART, NV and NB), the Naive Bayes is still the higher cross validation accuracy with lower standard deviation. Also the classifier for this dataset is insensitive to normalization and standardization. </blockquote>"
      ]
    },
    {
      "cell_type": "markdown",
      "id": "d2ebf81c",
      "metadata": {
        "id": "d2ebf81c"
      },
      "source": [
        "#### Hyperparameters optmization"
      ]
    },
    {
      "cell_type": "code",
      "execution_count": 9,
      "id": "dc0617ef",
      "metadata": {
        "id": "dc0617ef",
        "outputId": "fdd209d3-0391-4b23-9b33-804aade02329",
        "colab": {
          "base_uri": "https://localhost:8080/"
        }
      },
      "outputs": [
        {
          "output_type": "stream",
          "name": "stdout",
          "text": [
            "Best grid: NB-orig: 0.98603 score with 0.00012 as parameter\n",
            "Best grid: NB-padr: 0.98603 score with 0.04329 as parameter\n",
            "Best grid: NB-norm: 0.98603 score with 0.03511 as parameter\n"
          ]
        }
      ],
      "source": [
        "# NB tunning\n",
        "\n",
        "np.random.seed(8) # Definition of a global seed\n",
        "\n",
        "pipelines = []\n",
        "\n",
        "# Pipeline component definition\n",
        "nb = ('NB', GaussianNB())\n",
        "standard_scaler = ('StandardScaler', StandardScaler())\n",
        "min_max_scaler = ('MinMaxScaler', MinMaxScaler())\n",
        "\n",
        "pipelines.append(('NB-orig', Pipeline(steps=[nb])))\n",
        "pipelines.append(('NB-padr', Pipeline(steps=[standard_scaler, nb])))\n",
        "pipelines.append(('NB-norm', Pipeline(steps=[min_max_scaler, nb])))\n",
        "\n",
        "param_grid_nb = {\n",
        "    \"NB__var_smoothing\": np.logspace(0,-9,100),\n",
        "}\n",
        "\n",
        "# list of best grid parameters\n",
        "grid_param = []\n",
        "\n",
        "# Prepare and execute GridSearchCV\n",
        "for name, model in pipelines:\n",
        "    grid = GridSearchCV(estimator=model, param_grid=param_grid_nb, scoring=scoring, cv=kfold)\n",
        "    grid.fit(X_train, y_train)\n",
        "    # Print best configuration\n",
        "    print(f\"Best grid: {name}: {grid.best_score_:.5f} score with {grid.best_params_['NB__var_smoothing']:.5f} as parameter\")\n",
        "    # store best paramenter for each model\n",
        "    grid_param.append(grid.best_params_['NB__var_smoothing'])"
      ]
    },
    {
      "cell_type": "markdown",
      "id": "ceed26bd",
      "metadata": {
        "id": "ceed26bd"
      },
      "source": [
        "<blockquote>Best grid for Naive Bayes classifier shown similar results for original, standardized and normalized scaler. Hence, it has been chosen original Nive Bayes with smoothing factor parameter as 0.00012 to be carried on to finalize the model</blockquote>"
      ]
    },
    {
      "cell_type": "markdown",
      "id": "e6b60fbf",
      "metadata": {
        "id": "e6b60fbf"
      },
      "source": [
        "### <i><b> Model Finalization </i></b>\n",
        "##### Train normalized x non-normalized dataset"
      ]
    },
    {
      "cell_type": "code",
      "execution_count": 10,
      "id": "ad78de81",
      "metadata": {
        "id": "ad78de81",
        "outputId": "3bf0b08c-b5b1-4125-f8c9-4fbf82c0c9a2",
        "colab": {
          "base_uri": "https://localhost:8080/"
        }
      },
      "outputs": [
        {
          "output_type": "stream",
          "name": "stdout",
          "text": [
            "0.9847958297132928\n"
          ]
        }
      ],
      "source": [
        "# Pipeline and model preparation - with dataset normalization\n",
        "model = GaussianNB(var_smoothing= grid_param[0])\n",
        "pipeline = Pipeline(steps=[(\"NB\",model)])\n",
        "scaler = MinMaxScaler().fit(X_train) # scale adjustment with training dataset\n",
        "rescaledX_train = scaler.transform(X_train) # normalization of trainning dataset\n",
        "pipeline.fit(rescaledX_train,y_train)\n",
        "\n",
        "# Accuracy estimative for the test dataset\n",
        "rescaledX_test = scaler.transform(X_test) # # normalization of test dataset\n",
        "predictions = pipeline.predict(rescaledX_test)\n",
        "print(accuracy_score(y_test, predictions))"
      ]
    },
    {
      "cell_type": "code",
      "execution_count": 11,
      "id": "a499c9d6",
      "metadata": {
        "id": "a499c9d6",
        "outputId": "108d2efb-6e4d-43dc-b1c9-485d9203948c",
        "colab": {
          "base_uri": "https://localhost:8080/"
        }
      },
      "outputs": [
        {
          "output_type": "stream",
          "name": "stdout",
          "text": [
            "0.9852302345786272\n"
          ]
        }
      ],
      "source": [
        "# Pipeline and model preparation - without dataset normalization\n",
        "model = GaussianNB(var_smoothing= grid_param[0])\n",
        "pipeline = Pipeline(steps=[(\"NB\",model)])\n",
        "\n",
        "# Accuracy estimative for the test dataset\n",
        "pipeline.fit(X_train,y_train)\n",
        "predictions = pipeline.predict(X_test)\n",
        "print(accuracy_score(y_test, predictions))"
      ]
    },
    {
      "cell_type": "markdown",
      "id": "a9177869",
      "metadata": {
        "id": "a9177869"
      },
      "source": [
        "#### <b><i>Conclusions and General comments</i></b>"
      ]
    },
    {
      "cell_type": "markdown",
      "id": "c5ba0dcd",
      "metadata": {
        "id": "c5ba0dcd"
      },
      "source": [
        "<blocknote>For the dataset that has been chosen Naive Bayes classifier has the higher accuracy and lower standard deviation according to cross-validation method. Also normalalization and standardization hasn't any effecto to improve the classifier accuracy, and even dataset normalization either. The explanation can may arise from the simplified dataset which does not have many parameters and a gaussian curve may be already to close to the behaviour of classification problem.</blocknote>    "
      ]
    },
    {
      "cell_type": "markdown",
      "id": "9bf82161",
      "metadata": {
        "id": "9bf82161"
      },
      "source": [
        "#### <b><i>Reflections on data Security</i></b>"
      ]
    },
    {
      "cell_type": "markdown",
      "id": "64e0c815",
      "metadata": {
        "id": "64e0c815"
      },
      "source": [
        "<blocknote>If this were a dataset with personnel or industrial information, some techniques should have been applied for protection. The dataset could have acess control with multi-factor authentication and captcha verification. Sensitive data that is not essential for the classification algorithm, such as the location and name of the company where the equipment is being monitored, should be anonymized. These are only some examples of implementation for security data protection. </blocknote>    "
      ]
    },
    {
      "cell_type": "markdown",
      "id": "f708ed17",
      "metadata": {
        "id": "f708ed17"
      },
      "source": []
    }
  ],
  "metadata": {
    "kernelspec": {
      "display_name": "mpv2-oficial",
      "language": "python",
      "name": "python3"
    },
    "language_info": {
      "codemirror_mode": {
        "name": "ipython",
        "version": 3
      },
      "file_extension": ".py",
      "mimetype": "text/x-python",
      "name": "python",
      "nbconvert_exporter": "python",
      "pygments_lexer": "ipython3",
      "version": "3.13.5"
    },
    "colab": {
      "provenance": [],
      "include_colab_link": true
    }
  },
  "nbformat": 4,
  "nbformat_minor": 5
}